{
 "cells": [
  {
   "cell_type": "markdown",
   "metadata": {},
   "source": [
    "# Study Systematics Flip\n",
    "\n",
    "The purpose of this notebook is to check if systematics can be implemented as part of a vector of events in a way that does not increase memory usage.\n",
    "\n",
    "```Muon_pt_1```, ```Muon_pt_2```, ```Electron_pt_1```, ```Electron_pt_2``` are the variables that also have systematics counterparts.\n",
    "\n",
    "```PV_x```, ```PV_y```, ```PV_z``` do not have systematics counterparts."
   ]
  },
  {
   "cell_type": "code",
   "execution_count": 3,
   "metadata": {},
   "outputs": [],
   "source": [
    "import uproot\n",
    "import pickle\n",
    "import pandas as pd\n",
    "import numpy as np"
   ]
  },
  {
   "cell_type": "code",
   "execution_count": 4,
   "metadata": {},
   "outputs": [
    {
     "name": "stdout",
     "output_type": "stream",
     "text": [
      "name                 | typename                 | interpretation                \n",
      "---------------------+--------------------------+-------------------------------\n",
      "Muon_pt_1            | float                    | AsDtype('>f4')\n",
      "Muon_pt_2            | float                    | AsDtype('>f4')\n",
      "Electron_pt_1        | float                    | AsDtype('>f4')\n",
      "Electron_pt_2        | float                    | AsDtype('>f4')\n",
      "Muon_pt_1_Up         | float                    | AsDtype('>f4')\n",
      "Muon_pt_2_Up         | float                    | AsDtype('>f4')\n",
      "Electron_pt_1_Up     | float                    | AsDtype('>f4')\n",
      "Electron_pt_2_Up     | float                    | AsDtype('>f4')\n",
      "Muon_pt_1_Down       | float                    | AsDtype('>f4')\n",
      "Muon_pt_2_Down       | float                    | AsDtype('>f4')\n",
      "Electron_pt_1_Down   | float                    | AsDtype('>f4')\n",
      "Electron_pt_2_Down   | float                    | AsDtype('>f4')\n",
      "PV_x                 | float                    | AsDtype('>f4')\n",
      "PV_y                 | float                    | AsDtype('>f4')\n",
      "PV_z                 | float                    | AsDtype('>f4')\n"
     ]
    }
   ],
   "source": [
    "# Open root file and ttree\n",
    "\n",
    "file = uproot.open('test_sys_signal.root')\n",
    "tree = file['Events']\n",
    "tree.show()"
   ]
  },
  {
   "cell_type": "code",
   "execution_count": 5,
   "metadata": {},
   "outputs": [],
   "source": [
    "nominals_with_sys = ['Muon_pt_1', 'Muon_pt_2', 'Electron_pt_1', 'Electron_pt_2']\n",
    "nominals_without_sys = ['PV_x', 'PV_y', 'PV_z']\n",
    "systematics = ['', '_Up', '_Down']\n",
    "\n",
    "variables = nominals_with_sys + nominals_without_sys"
   ]
  },
  {
   "cell_type": "markdown",
   "metadata": {},
   "source": [
    "## Numpy"
   ]
  },
  {
   "cell_type": "code",
   "execution_count": null,
   "metadata": {},
   "outputs": [],
   "source": [
    "branches_pd = tree.arrays(library='pd')"
   ]
  },
  {
   "cell_type": "code",
   "execution_count": null,
   "metadata": {},
   "outputs": [],
   "source": [
    "branches_pd"
   ]
  },
  {
   "cell_type": "code",
   "execution_count": null,
   "metadata": {},
   "outputs": [],
   "source": [
    "np.array(branches_pd['Muon_pt_1'])"
   ]
  },
  {
   "cell_type": "code",
   "execution_count": null,
   "metadata": {},
   "outputs": [],
   "source": [
    "# Make structured array for Muon_pt_1\n",
    "muon_pt_1 = np.array([(branches_pd.loc[i, 'Muon_pt_1'], branches_pd.loc[i, 'Muon_pt_1_Up'], branches_pd.loc[i, 'Muon_pt_1_Down']) for i in range(len(branches_pd))], \n",
    "                     dtype=[('nominal', 'f4'), ('up', 'f4'), ('down', 'f4')])"
   ]
  },
  {
   "cell_type": "code",
   "execution_count": null,
   "metadata": {},
   "outputs": [],
   "source": [
    "muon_pt_1.shape"
   ]
  },
  {
   "cell_type": "code",
   "execution_count": null,
   "metadata": {},
   "outputs": [],
   "source": [
    "'''\n",
    "Attempt: make structured arrays for variables with systematics and flat for the others\n",
    "Unfortunately, fails when concatenating the two arrays for syst and not-syst\n",
    "The only way would be https://stackoverflow.com/questions/39754658/concatenate-arrays-with-mixed-types,\n",
    "but then we loose the possibility to access with arr['nominal'] etc.\n",
    "'''\n",
    "\n",
    "df_sys = np.vstack(tuple(np.array([tuple(branches_pd.loc[i, name] for name in list(map(lambda suf: var + suf, systematics))) \n",
    "                               for i in range(len(branches_pd))], \n",
    "                              dtype=[('nominal', 'f4'), ('up', 'f4'), ('down', 'f4')]) for var in nominals_with_sys)).T\n",
    "\n",
    "'''\n",
    "df_nosys = np.vstack(tuple(np.array([((branches_pd.loc[i, var]))\n",
    "                                     for i in range(len(branches_pd))],\n",
    "                                    dtype=[('nominal', 'f4')]) for var in nominals_without_sys)).T\n",
    "'''\n",
    "\n",
    "df_nosys = np.vstack(tuple(np.array(branches_pd[var]) for var in nominals_without_sys)).T"
   ]
  },
  {
   "cell_type": "code",
   "execution_count": null,
   "metadata": {},
   "outputs": [],
   "source": [
    "'''Attempt: df_sys is supposed to be a matrix n_evs x nominals_with_sys where every element is a n_sys-dim array\n",
    "Does not work becaus when you concatenate the arrays n_evs x n_sys arrays for the different (nominals_with_sys) variables\n",
    "numpy flattens it\n",
    "'''\n",
    "df_sys = np.vstack(tuple(np.array([np.array([branches_pd.loc[i, name] for name in list(map(lambda suf: var + suf, systematics))])\n",
    "                                   for i in range(len(branches_pd))]) for var in nominals_with_sys))"
   ]
  },
  {
   "cell_type": "code",
   "execution_count": null,
   "metadata": {},
   "outputs": [],
   "source": [
    "np.array([branches_pd.loc[i, name] for name in list(map(lambda suf: 'Muon_pt_1' + suf, systematics))])"
   ]
  },
  {
   "cell_type": "code",
   "execution_count": null,
   "metadata": {},
   "outputs": [],
   "source": [
    "a = np.array([np.array([branches_pd.loc[i, name] for name in list(map(lambda suf: 'Muon_pt_1' + suf, systematics))]) for i in range(len(branches_pd))])\n",
    "b = np.array([np.array([branches_pd.loc[i, name] for name in list(map(lambda suf: 'Electron_pt_1' + suf, systematics))]) for i in range(len(branches_pd))])"
   ]
  },
  {
   "cell_type": "code",
   "execution_count": null,
   "metadata": {},
   "outputs": [],
   "source": [
    "'''Attempt: df_sys is a 3D array. It can't be concateneted with a 2D array for df_nosys, unless we fill the gaps with nominals.\n",
    "This would would probably increase the memory usage.\n",
    "'''\n",
    "df_sys = np.array([np.array([np.array([branches_pd.loc[i, name] for name in list(map(lambda suf: var + suf, systematics))])\n",
    "                                   for i in range(len(branches_pd))]) for var in nominals_with_sys])"
   ]
  },
  {
   "cell_type": "code",
   "execution_count": null,
   "metadata": {},
   "outputs": [],
   "source": [
    "df_sys.shape"
   ]
  },
  {
   "cell_type": "markdown",
   "metadata": {},
   "source": [
    "### Attempt: double structured array\n",
    "\n",
    "The dataframe ends up being a nested structured array. In the outmost one, the fields are the variables (```Muon_pt_1```, ```Electron_pt_1```, ```PV_x```, etc.), whose type is another structured array (```sys_type``` below) for the variables that have systematics, ```float``` for the others. \n",
    "\n",
    "Of course, the type would have to be generalized if the types that we retrieve from the tree are not simple floats.\n",
    "\n",
    "```sys_type``` fields are the systematics themselves, plus ```Nominal```."
   ]
  },
  {
   "cell_type": "code",
   "execution_count": 33,
   "metadata": {},
   "outputs": [],
   "source": [
    "branches = tree.arrays(library='ak')"
   ]
  },
  {
   "cell_type": "code",
   "execution_count": 34,
   "metadata": {},
   "outputs": [
    {
     "data": {
      "text/plain": [
       "<Array [{Muon_pt_1: 17.4, ... PV_z: 7.01}] type='22838 * {\"Muon_pt_1\": float32, ...'>"
      ]
     },
     "execution_count": 34,
     "metadata": {},
     "output_type": "execute_result"
    }
   ],
   "source": [
    "branches"
   ]
  },
  {
   "cell_type": "code",
   "execution_count": 35,
   "metadata": {},
   "outputs": [
    {
     "data": {
      "text/plain": [
       "22838"
      ]
     },
     "execution_count": 35,
     "metadata": {},
     "output_type": "execute_result"
    }
   ],
   "source": [
    "len(branches)"
   ]
  },
  {
   "cell_type": "markdown",
   "metadata": {},
   "source": [
    "#### Generalize"
   ]
  },
  {
   "cell_type": "code",
   "execution_count": 36,
   "metadata": {},
   "outputs": [],
   "source": [
    "sys_type = np.dtype([('Nominal', 'float32') if sys == '' else (sys, 'float32') for sys in systematics])"
   ]
  },
  {
   "cell_type": "code",
   "execution_count": 37,
   "metadata": {},
   "outputs": [
    {
     "data": {
      "text/plain": [
       "dtype([('Nominal', '<f4'), ('_Up', '<f4'), ('_Down', '<f4')])"
      ]
     },
     "execution_count": 37,
     "metadata": {},
     "output_type": "execute_result"
    }
   ],
   "source": [
    "sys_type"
   ]
  },
  {
   "cell_type": "code",
   "execution_count": 38,
   "metadata": {},
   "outputs": [],
   "source": [
    "nom_type = np.dtype([('Nominal', 'float32')])"
   ]
  },
  {
   "cell_type": "code",
   "execution_count": 39,
   "metadata": {},
   "outputs": [
    {
     "data": {
      "text/plain": [
       "dtype([('Nominal', '<f4')])"
      ]
     },
     "execution_count": 39,
     "metadata": {},
     "output_type": "execute_result"
    }
   ],
   "source": [
    "nom_type"
   ]
  },
  {
   "cell_type": "code",
   "execution_count": 40,
   "metadata": {},
   "outputs": [],
   "source": [
    "table_type = np.dtype([(var, sys_type) for var in nominals_with_sys] + [(var, nom_type) for var in nominals_without_sys])"
   ]
  },
  {
   "cell_type": "code",
   "execution_count": 41,
   "metadata": {},
   "outputs": [
    {
     "data": {
      "text/plain": [
       "dtype([('Muon_pt_1', [('Nominal', '<f4'), ('_Up', '<f4'), ('_Down', '<f4')]), ('Muon_pt_2', [('Nominal', '<f4'), ('_Up', '<f4'), ('_Down', '<f4')]), ('Electron_pt_1', [('Nominal', '<f4'), ('_Up', '<f4'), ('_Down', '<f4')]), ('Electron_pt_2', [('Nominal', '<f4'), ('_Up', '<f4'), ('_Down', '<f4')]), ('PV_x', [('Nominal', '<f4')]), ('PV_y', [('Nominal', '<f4')]), ('PV_z', [('Nominal', '<f4')])])"
      ]
     },
     "execution_count": 41,
     "metadata": {},
     "output_type": "execute_result"
    }
   ],
   "source": [
    "table_type"
   ]
  },
  {
   "cell_type": "code",
   "execution_count": 42,
   "metadata": {},
   "outputs": [
    {
     "name": "stdout",
     "output_type": "stream",
     "text": [
      "CPU times: user 8.69 s, sys: 68.7 ms, total: 8.76 s\n",
      "Wall time: 8.76 s\n"
     ]
    }
   ],
   "source": [
    "%%time\n",
    "\n",
    "final = np.array([tuple([np.array(tuple([branches[name][i] for name in list(map(lambda suf: var + suf, systematics))]), sys_type) for var in nominals_with_sys]\n",
    "                        + [np.array(tuple([branches[var][i]]), nom_type) for var in nominals_without_sys])\n",
    "                        #+ [branches[var][i] for var in nominals_without_sys]) \n",
    "                  for i in range(len(branches))], dtype=table_type)"
   ]
  },
  {
   "cell_type": "code",
   "execution_count": 43,
   "metadata": {},
   "outputs": [
    {
     "data": {
      "text/plain": [
       "array([((17.382437, 17.882437, 16.882437), (13.2383995, 13.7383995, 12.7383995), (44.744175 , 45.244175 , 44.244175 ), (58.94207  , 59.44207  , 58.44207  ), (0.24211372,), (0.39511582,), (  6.090504 ,)),\n",
       "       ((50.051613, 50.551613, 49.551613), (41.024353 , 41.524353 , 40.524353 ), (15.9591465, 16.459146 , 15.4591465), ( 5.622648 ,  6.122648 ,  5.122648 ), (0.24053279,), (0.39375338,), ( -6.5441937,)),\n",
       "       ((24.70227 , 25.20227 , 24.20227 ), (41.462658 , 41.962658 , 40.962658 ), ( 5.042018 ,  5.542018 ,  4.542018 ), ( 7.9949474,  8.494947 ,  7.4949474), (0.24565527,), (0.39248142,), (-12.015012 ,)),\n",
       "       ...,\n",
       "       ((33.58854 , 34.08854 , 33.08854 ), (35.16421  , 35.66421  , 34.66421  ), (14.531511 , 15.031511 , 14.031511 ), (12.232145 , 12.732145 , 11.732145 ), (0.24721472,), (0.3938958 ,), ( -1.3571125,)),\n",
       "       ((59.00309 , 59.50309 , 58.50309 ), (21.31192  , 21.81192  , 20.81192  ), ( 5.1863894,  5.6863894,  4.6863894), (14.721363 , 15.221363 , 14.221363 ), (0.24585512,), (0.39090726,), (-14.366134 ,)),\n",
       "       ((42.957253, 43.457253, 42.457253), (40.313286 , 40.813286 , 39.813286 ), ( 6.6560383,  7.1560383,  6.1560383), ( 8.9044485,  9.4044485,  8.4044485), (0.24327561,), (0.38856584,), (  7.0054007,))],\n",
       "      dtype=[('Muon_pt_1', [('Nominal', '<f4'), ('_Up', '<f4'), ('_Down', '<f4')]), ('Muon_pt_2', [('Nominal', '<f4'), ('_Up', '<f4'), ('_Down', '<f4')]), ('Electron_pt_1', [('Nominal', '<f4'), ('_Up', '<f4'), ('_Down', '<f4')]), ('Electron_pt_2', [('Nominal', '<f4'), ('_Up', '<f4'), ('_Down', '<f4')]), ('PV_x', [('Nominal', '<f4')]), ('PV_y', [('Nominal', '<f4')]), ('PV_z', [('Nominal', '<f4')])])"
      ]
     },
     "execution_count": 43,
     "metadata": {},
     "output_type": "execute_result"
    }
   ],
   "source": [
    "final"
   ]
  },
  {
   "cell_type": "markdown",
   "metadata": {},
   "source": [
    "#### Try some operations"
   ]
  },
  {
   "cell_type": "code",
   "execution_count": 44,
   "metadata": {},
   "outputs": [
    {
     "data": {
      "text/plain": [
       "(22838,)"
      ]
     },
     "execution_count": 44,
     "metadata": {},
     "output_type": "execute_result"
    }
   ],
   "source": [
    "final.shape"
   ]
  },
  {
   "cell_type": "code",
   "execution_count": 45,
   "metadata": {},
   "outputs": [
    {
     "name": "stdout",
     "output_type": "stream",
     "text": [
      "Event 0: ((17.382437, 17.882437, 16.882437), (13.2383995, 13.7383995, 12.7383995), (44.744175, 45.244175, 44.244175), (58.94207, 59.44207, 58.44207), (0.24211372,), (0.39511582,), (6.090504,))\n",
      "Event 1: ((50.051613, 50.551613, 49.551613), (41.024353, 41.524353, 40.524353), (15.9591465, 16.459146, 15.4591465), (5.622648, 6.122648, 5.122648), (0.24053279,), (0.39375338,), (-6.5441937,))\n",
      "Event 2: ((24.70227, 25.20227, 24.20227), (41.462658, 41.962658, 40.962658), (5.042018, 5.542018, 4.542018), (7.9949474, 8.494947, 7.4949474), (0.24565527,), (0.39248142,), (-12.015012,))\n"
     ]
    }
   ],
   "source": [
    "# Slicing\n",
    "\n",
    "for i, evt in enumerate(final[0:3]):\n",
    "    print('Event {}: {}'.format(i, evt))"
   ]
  },
  {
   "cell_type": "code",
   "execution_count": 46,
   "metadata": {},
   "outputs": [
    {
     "data": {
      "text/plain": [
       "array([(17.382437, 17.882437, 16.882437),\n",
       "       (50.051613, 50.551613, 49.551613),\n",
       "       (24.70227 , 25.20227 , 24.20227 ), ...,\n",
       "       (33.58854 , 34.08854 , 33.08854 ),\n",
       "       (59.00309 , 59.50309 , 58.50309 ),\n",
       "       (42.957253, 43.457253, 42.457253)],\n",
       "      dtype=[('Nominal', '<f4'), ('_Up', '<f4'), ('_Down', '<f4')])"
      ]
     },
     "execution_count": 46,
     "metadata": {},
     "output_type": "execute_result"
    }
   ],
   "source": [
    "final['Muon_pt_1']"
   ]
  },
  {
   "cell_type": "code",
   "execution_count": 47,
   "metadata": {},
   "outputs": [
    {
     "data": {
      "text/plain": [
       "array([17.382437, 50.051613, 24.70227 , ..., 33.58854 , 59.00309 ,\n",
       "       42.957253], dtype=float32)"
      ]
     },
     "execution_count": 47,
     "metadata": {},
     "output_type": "execute_result"
    }
   ],
   "source": [
    "final['Muon_pt_1']['Nominal']"
   ]
  },
  {
   "cell_type": "code",
   "execution_count": 48,
   "metadata": {},
   "outputs": [
    {
     "name": "stdout",
     "output_type": "stream",
     "text": [
      "Event 0: Nominal 17.382436752319336, Up 17.882436752319336, Down 16.882436752319336\n",
      "Event 1: Nominal 50.051612854003906, Up 50.551612854003906, Down 49.551612854003906\n",
      "Event 2: Nominal 24.7022705078125, Up 25.2022705078125, Down 24.2022705078125\n"
     ]
    }
   ],
   "source": [
    "for i, evt in enumerate(final['Muon_pt_1'][0:3]):\n",
    "    print('Event {}: Nominal {}, Up {}, Down {}'.format(i, evt['Nominal'], evt['_Up'], evt['_Down']))"
   ]
  },
  {
   "cell_type": "markdown",
   "metadata": {},
   "source": [
    "#### Taggers"
   ]
  },
  {
   "cell_type": "code",
   "execution_count": 49,
   "metadata": {},
   "outputs": [],
   "source": [
    "import pickle"
   ]
  },
  {
   "cell_type": "code",
   "execution_count": 50,
   "metadata": {},
   "outputs": [],
   "source": [
    "# unpickle trained model\n",
    "bdt = pickle.load(open('classifier.pkl', 'rb'))"
   ]
  },
  {
   "cell_type": "markdown",
   "metadata": {},
   "source": [
    "First we study how to add a new column to a structured Numpy array"
   ]
  },
  {
   "cell_type": "code",
   "execution_count": 51,
   "metadata": {},
   "outputs": [],
   "source": [
    "new_col = np.array([tuple(np.array([(0,0,0)], dtype=sys_type)) for i in range(len(final))], dtype=[('Predicted', sys_type)])"
   ]
  },
  {
   "cell_type": "code",
   "execution_count": 52,
   "metadata": {},
   "outputs": [
    {
     "data": {
      "text/plain": [
       "array([0., 0., 0., ..., 0., 0., 0.], dtype=float32)"
      ]
     },
     "execution_count": 52,
     "metadata": {},
     "output_type": "execute_result"
    }
   ],
   "source": [
    "new_col['Predicted']['Nominal']"
   ]
  },
  {
   "cell_type": "code",
   "execution_count": 53,
   "metadata": {},
   "outputs": [],
   "source": [
    "import numpy.lib.recfunctions as rfn"
   ]
  },
  {
   "cell_type": "code",
   "execution_count": null,
   "metadata": {},
   "outputs": [],
   "source": [
    "#final_added = rfn.merge_arrays((final, new_col), flatten=True)"
   ]
  },
  {
   "cell_type": "code",
   "execution_count": 54,
   "metadata": {},
   "outputs": [],
   "source": [
    "# Making a whole new one\n",
    "\n",
    "new_dtype = np.dtype(final.dtype.descr + [('Predicted', sys_type)])"
   ]
  },
  {
   "cell_type": "code",
   "execution_count": 55,
   "metadata": {},
   "outputs": [],
   "source": [
    "new_df = np.empty(final.shape, dtype=new_dtype)"
   ]
  },
  {
   "cell_type": "code",
   "execution_count": 56,
   "metadata": {},
   "outputs": [],
   "source": [
    "for var in nominals_with_sys + nominals_without_sys:\n",
    "    new_df[var] = final[var]\n",
    "new_df['Predicted'] = new_col['Predicted']"
   ]
  },
  {
   "cell_type": "code",
   "execution_count": 57,
   "metadata": {},
   "outputs": [
    {
     "data": {
      "text/plain": [
       "array([((17.382437, 17.882437, 16.882437), (13.2383995, 13.7383995, 12.7383995), (44.744175 , 45.244175 , 44.244175 ), (58.94207  , 59.44207  , 58.44207  ), (0.24211372,), (0.39511582,), (  6.090504 ,), (0., 0., 0.)),\n",
       "       ((50.051613, 50.551613, 49.551613), (41.024353 , 41.524353 , 40.524353 ), (15.9591465, 16.459146 , 15.4591465), ( 5.622648 ,  6.122648 ,  5.122648 ), (0.24053279,), (0.39375338,), ( -6.5441937,), (0., 0., 0.)),\n",
       "       ((24.70227 , 25.20227 , 24.20227 ), (41.462658 , 41.962658 , 40.962658 ), ( 5.042018 ,  5.542018 ,  4.542018 ), ( 7.9949474,  8.494947 ,  7.4949474), (0.24565527,), (0.39248142,), (-12.015012 ,), (0., 0., 0.)),\n",
       "       ...,\n",
       "       ((33.58854 , 34.08854 , 33.08854 ), (35.16421  , 35.66421  , 34.66421  ), (14.531511 , 15.031511 , 14.031511 ), (12.232145 , 12.732145 , 11.732145 ), (0.24721472,), (0.3938958 ,), ( -1.3571125,), (0., 0., 0.)),\n",
       "       ((59.00309 , 59.50309 , 58.50309 ), (21.31192  , 21.81192  , 20.81192  ), ( 5.1863894,  5.6863894,  4.6863894), (14.721363 , 15.221363 , 14.221363 ), (0.24585512,), (0.39090726,), (-14.366134 ,), (0., 0., 0.)),\n",
       "       ((42.957253, 43.457253, 42.457253), (40.313286 , 40.813286 , 39.813286 ), ( 6.6560383,  7.1560383,  6.1560383), ( 8.9044485,  9.4044485,  8.4044485), (0.24327561,), (0.38856584,), (  7.0054007,), (0., 0., 0.))],\n",
       "      dtype=[('Muon_pt_1', [('Nominal', '<f4'), ('_Up', '<f4'), ('_Down', '<f4')]), ('Muon_pt_2', [('Nominal', '<f4'), ('_Up', '<f4'), ('_Down', '<f4')]), ('Electron_pt_1', [('Nominal', '<f4'), ('_Up', '<f4'), ('_Down', '<f4')]), ('Electron_pt_2', [('Nominal', '<f4'), ('_Up', '<f4'), ('_Down', '<f4')]), ('PV_x', [('Nominal', '<f4')]), ('PV_y', [('Nominal', '<f4')]), ('PV_z', [('Nominal', '<f4')]), ('Predicted', [('Nominal', '<f4'), ('_Up', '<f4'), ('_Down', '<f4')])])"
      ]
     },
     "execution_count": 57,
     "metadata": {},
     "output_type": "execute_result"
    }
   ],
   "source": [
    "new_df"
   ]
  },
  {
   "cell_type": "code",
   "execution_count": 58,
   "metadata": {},
   "outputs": [],
   "source": [
    "def perform_inference(df, clf, nominals, systematics, new_column):\n",
    "    '''Given a classifier that takes n columns as input, recursively apply\n",
    "    the classifier on the n columns specified by the combination of nominal\n",
    "    with the elements in systematics\n",
    "    '''\n",
    "    model_features = clf.get_booster().feature_names\n",
    "    for sys in systematics:\n",
    "        columns = list(map(lambda pref: pref + sys, nominals))\n",
    "        df[new_column + sys] = clf.predict(df.rename(\n",
    "            columns=dict(zip(columns, model_features)), inplace=False)[model_features])\n",
    "        df = df.rename(columns=dict(zip(model_features, columns)))\n",
    "    return df"
   ]
  },
  {
   "cell_type": "code",
   "execution_count": null,
   "metadata": {},
   "outputs": [],
   "source": [
    "# First we try to produce a new_column with the results of the application of the booster to final\n",
    "p = pd.DataFrame(final)\n",
    "df = perform_inference(p, bdt, nominals_with_sys, systematics, new_column='Y')"
   ]
  },
  {
   "cell_type": "code",
   "execution_count": null,
   "metadata": {},
   "outputs": [],
   "source": [
    "# Create 2D array from final in order to feed the classifier\n",
    "inp = np.array([[final[var][i] for var in nominals_with_sys] for i in range(len(final))])"
   ]
  },
  {
   "cell_type": "code",
   "execution_count": null,
   "metadata": {},
   "outputs": [],
   "source": [
    "inp[:, 0]"
   ]
  },
  {
   "cell_type": "code",
   "execution_count": 88,
   "metadata": {},
   "outputs": [
    {
     "data": {
      "text/plain": [
       "((17.382437, 17.882437, 16.882437), (13.2383995, 13.7383995, 12.7383995))"
      ]
     },
     "execution_count": 88,
     "metadata": {},
     "output_type": "execute_result"
    }
   ],
   "source": [
    "final[['Muon_pt_1', 'Muon_pt_2']][0]"
   ]
  },
  {
   "cell_type": "markdown",
   "metadata": {},
   "source": [
    "## Awkward"
   ]
  },
  {
   "cell_type": "code",
   "execution_count": 28,
   "metadata": {},
   "outputs": [],
   "source": [
    "import awkward1 as ak"
   ]
  },
  {
   "cell_type": "code",
   "execution_count": 29,
   "metadata": {},
   "outputs": [],
   "source": [
    "branches = tree.arrays(library='ak')"
   ]
  },
  {
   "cell_type": "code",
   "execution_count": 30,
   "metadata": {},
   "outputs": [
    {
     "data": {
      "text/plain": [
       "<Array [{Muon_pt_1: 17.4, ... PV_z: 7.01}] type='22838 * {\"Muon_pt_1\": float32, ...'>"
      ]
     },
     "execution_count": 30,
     "metadata": {},
     "output_type": "execute_result"
    }
   ],
   "source": [
    "branches"
   ]
  },
  {
   "cell_type": "code",
   "execution_count": 31,
   "metadata": {},
   "outputs": [
    {
     "data": {
      "text/plain": [
       "22838 * {\"Muon_pt_1\": float32, \"Muon_pt_2\": float32, \"Electron_pt_1\": float32, \"Electron_pt_2\": float32, \"Muon_pt_1_Up\": float32, \"Muon_pt_2_Up\": float32, \"Electron_pt_1_Up\": float32, \"Electron_pt_2_Up\": float32, \"Muon_pt_1_Down\": float32, \"Muon_pt_2_Down\": float32, \"Electron_pt_1_Down\": float32, \"Electron_pt_2_Down\": float32, \"PV_x\": float32, \"PV_y\": float32, \"PV_z\": float32}"
      ]
     },
     "execution_count": 31,
     "metadata": {},
     "output_type": "execute_result"
    }
   ],
   "source": [
    "ak.type(branches)"
   ]
  },
  {
   "cell_type": "code",
   "execution_count": 8,
   "metadata": {},
   "outputs": [
    {
     "data": {
      "text/plain": [
       "22838"
      ]
     },
     "execution_count": 8,
     "metadata": {},
     "output_type": "execute_result"
    }
   ],
   "source": [
    "len(branches)"
   ]
  },
  {
   "cell_type": "code",
   "execution_count": 9,
   "metadata": {},
   "outputs": [],
   "source": [
    "# Quick example of the structure we want\n",
    "a = ak.Array([{'Muon': {'Nominal': 0, 'Up': 1, 'Down': -1}, 'PV': 3}, {'Muon': {'Nominal': 0, 'Up': 10, 'Down': -10}, 'PV': 30}])"
   ]
  },
  {
   "cell_type": "code",
   "execution_count": 10,
   "metadata": {},
   "outputs": [
    {
     "data": {
      "text/plain": [
       "2 * {\"Muon\": {\"Nominal\": int64, \"Up\": int64, \"Down\": int64}, \"PV\": int64}"
      ]
     },
     "execution_count": 10,
     "metadata": {},
     "output_type": "execute_result"
    }
   ],
   "source": [
    "ak.type(a)"
   ]
  },
  {
   "cell_type": "markdown",
   "metadata": {},
   "source": [
    "### Generalize"
   ]
  },
  {
   "cell_type": "markdown",
   "metadata": {},
   "source": [
    "First way: the dataframe is a type record array where the variables having systematics are themselves a record while the others are normal arrays"
   ]
  },
  {
   "cell_type": "code",
   "execution_count": 32,
   "metadata": {},
   "outputs": [
    {
     "name": "stdout",
     "output_type": "stream",
     "text": [
      "CPU times: user 1.57 s, sys: 0 ns, total: 1.57 s\n",
      "Wall time: 1.57 s\n"
     ]
    }
   ],
   "source": [
    "%%time\n",
    "\n",
    "final = ak.Array([{var: val for (var, val) in [(var, {k: v for (k, v) in [(\n",
    "    'Nominal' if sys == '' else sys.replace('_', ''), evt[var + sys]) for sys in systematics]}) for var in nominals_with_sys] \n",
    "                   + [(var, evt[var]) for var in nominals_without_sys]} for evt in branches])"
   ]
  },
  {
   "cell_type": "code",
   "execution_count": 33,
   "metadata": {},
   "outputs": [
    {
     "data": {
      "text/plain": [
       "22838 * {\"Muon_pt_1\": {\"Nominal\": float64, \"Up\": float64, \"Down\": float64}, \"Muon_pt_2\": {\"Nominal\": float64, \"Up\": float64, \"Down\": float64}, \"Electron_pt_1\": {\"Nominal\": float64, \"Up\": float64, \"Down\": float64}, \"Electron_pt_2\": {\"Nominal\": float64, \"Up\": float64, \"Down\": float64}, \"PV_x\": float64, \"PV_y\": float64, \"PV_z\": float64}"
      ]
     },
     "execution_count": 33,
     "metadata": {},
     "output_type": "execute_result"
    }
   ],
   "source": [
    "ak.type(final)"
   ]
  },
  {
   "cell_type": "markdown",
   "metadata": {},
   "source": [
    "Second way: the dataframe is a type record array where all the variables are other record type arrays; the ones without systematics only have the \"nominal\" field"
   ]
  },
  {
   "cell_type": "code",
   "execution_count": 38,
   "metadata": {},
   "outputs": [
    {
     "name": "stdout",
     "output_type": "stream",
     "text": [
      "CPU times: user 2.96 s, sys: 32.5 ms, total: 2.99 s\n",
      "Wall time: 2.99 s\n"
     ]
    }
   ],
   "source": [
    "%%time\n",
    "\n",
    "def get_systematics_record(event, var, systematics):\n",
    "    systematics_record = {}\n",
    "    for sys in systematics:\n",
    "        if sys == \"\":\n",
    "            placeholder = \"Nominal\"\n",
    "        else:\n",
    "            placeholder = sys.replace(\"_\", \"\")\n",
    "        key = \"{}{}\".format(var, sys)\n",
    "        if key in event.fields:\n",
    "            systematics_record[placeholder] = event[key]\n",
    "    return systematics_record\n",
    "\n",
    "def get_variables_record(event, variables, systematics):\n",
    "    variables_record = {}\n",
    "    for var in variables:\n",
    "        variables_record[var] = get_systematics_record(event, var, systematics)\n",
    "    return variables_record\n",
    "\n",
    "final = ak.Array([get_variables_record(evt, variables, systematics) for evt in branches])"
   ]
  },
  {
   "cell_type": "code",
   "execution_count": 39,
   "metadata": {},
   "outputs": [
    {
     "data": {
      "text/plain": [
       "22838 * {\"Muon_pt_1\": {\"Nominal\": float64, \"Up\": float64, \"Down\": float64}, \"Muon_pt_2\": {\"Nominal\": float64, \"Up\": float64, \"Down\": float64}, \"Electron_pt_1\": {\"Nominal\": float64, \"Up\": float64, \"Down\": float64}, \"Electron_pt_2\": {\"Nominal\": float64, \"Up\": float64, \"Down\": float64}, \"PV_x\": {\"Nominal\": float64}, \"PV_y\": {\"Nominal\": float64}, \"PV_z\": {\"Nominal\": float64}}"
      ]
     },
     "execution_count": 39,
     "metadata": {},
     "output_type": "execute_result"
    }
   ],
   "source": [
    "final.type"
   ]
  },
  {
   "cell_type": "markdown",
   "metadata": {},
   "source": [
    "### Try some operations"
   ]
  },
  {
   "cell_type": "code",
   "execution_count": 15,
   "metadata": {},
   "outputs": [
    {
     "name": "stdout",
     "output_type": "stream",
     "text": [
      "Event 0: ... Nominal: 58.9, Up: 59.4, Down: 58.4}, PV_x: 0.242, PV_y: 0.395, PV_z: 6.09}\n",
      "Event 1: ... Nominal: 5.62, Up: 6.12, Down: 5.12}, PV_x: 0.241, PV_y: 0.394, PV_z: -6.54}\n",
      "Event 2: ... Nominal: 7.99, Up: 8.49, Down: 7.49}, PV_x: 0.246, PV_y: 0.392, PV_z: -12}\n"
     ]
    }
   ],
   "source": [
    "# Slicing\n",
    "\n",
    "for i, evt in enumerate(final[0:3]):\n",
    "    print('Event {}: {}'.format(i, evt))"
   ]
  },
  {
   "cell_type": "code",
   "execution_count": 17,
   "metadata": {},
   "outputs": [
    {
     "name": "stdout",
     "output_type": "stream",
     "text": [
      "Event 0: Nominal 17.382436752319336, Up 17.882436752319336, Down 16.882436752319336\n",
      "Event 1: Nominal 50.051612854003906, Up 50.551612854003906, Down 49.551612854003906\n",
      "Event 2: Nominal 24.7022705078125, Up 25.2022705078125, Down 24.2022705078125\n"
     ]
    }
   ],
   "source": [
    "for i, evt in enumerate(final['Muon_pt_1'][0:3]):\n",
    "    print('Event {}: Nominal {}, Up {}, Down {}'.format(i, evt['Nominal'], evt['Up'], evt['Down']))"
   ]
  },
  {
   "cell_type": "markdown",
   "metadata": {},
   "source": [
    "### Taggers"
   ]
  },
  {
   "cell_type": "code",
   "execution_count": 11,
   "metadata": {},
   "outputs": [],
   "source": [
    "import pickle"
   ]
  },
  {
   "cell_type": "code",
   "execution_count": 12,
   "metadata": {},
   "outputs": [],
   "source": [
    "# unpickle trained model\n",
    "bdt = pickle.load(open('classifier.pkl', 'rb'))"
   ]
  },
  {
   "cell_type": "markdown",
   "metadata": {},
   "source": [
    "First we study how an Awkward array can be fed to a XGBoost classifier"
   ]
  },
  {
   "cell_type": "code",
   "execution_count": 14,
   "metadata": {},
   "outputs": [
    {
     "name": "stdout",
     "output_type": "stream",
     "text": [
      "CPU times: user 1.99 ms, sys: 0 ns, total: 1.99 ms\n",
      "Wall time: 2.01 ms\n"
     ]
    }
   ],
   "source": [
    "%%time\n",
    "# Mine\n",
    "\n",
    "up = ak.Array({var: up for (var, up) in [(var, final[var]['Up']) for var in final.fields if 'Up' in final[var].fields]})"
   ]
  },
  {
   "cell_type": "code",
   "execution_count": 15,
   "metadata": {},
   "outputs": [
    {
     "data": {
      "text/plain": [
       "<Array [{Muon_pt_1: 17.9, ... ] type='22838 * {\"Muon_pt_1\": float64, \"Muon_pt_2\"...'>"
      ]
     },
     "execution_count": 15,
     "metadata": {},
     "output_type": "execute_result"
    }
   ],
   "source": [
    "up"
   ]
  },
  {
   "cell_type": "code",
   "execution_count": 18,
   "metadata": {},
   "outputs": [
    {
     "name": "stdout",
     "output_type": "stream",
     "text": [
      "CPU times: user 2.1 ms, sys: 98 µs, total: 2.2 ms\n",
      "Wall time: 2.22 ms\n"
     ]
    }
   ],
   "source": [
    "%%time\n",
    "# Jim (https://github.com/scikit-hep/awkward-1.0/discussions/614)\n",
    "\n",
    "up = ak.zip({field: final[field, \"Up\"] for field in ak.fields(final) if \"Up\" in ak.fields(final[field])})"
   ]
  },
  {
   "cell_type": "code",
   "execution_count": 19,
   "metadata": {},
   "outputs": [
    {
     "data": {
      "text/plain": [
       "<Array [{Muon_pt_1: 17.9, ... ] type='22838 * {\"Muon_pt_1\": float64, \"Muon_pt_2\"...'>"
      ]
     },
     "execution_count": 19,
     "metadata": {},
     "output_type": "execute_result"
    }
   ],
   "source": [
    "up"
   ]
  },
  {
   "cell_type": "code",
   "execution_count": 46,
   "metadata": {},
   "outputs": [],
   "source": [
    "ak_up = ak.to_numpy(up)"
   ]
  },
  {
   "cell_type": "code",
   "execution_count": 47,
   "metadata": {},
   "outputs": [
    {
     "data": {
      "text/plain": [
       "array([(17.88243675, 13.73839951, 45.24417496, 59.44207001),\n",
       "       (50.55161285, 41.52435303, 16.4591465 ,  6.12264776),\n",
       "       (25.20227051, 41.96265793,  5.54201794,  8.49494743), ...,\n",
       "       (34.08853912, 35.66421127, 15.03151131, 12.73214531),\n",
       "       (59.5030899 , 21.81192017,  5.68638945, 15.22136307),\n",
       "       (43.4572525 , 40.81328583,  7.15603828,  9.40444851)],\n",
       "      dtype=[('Muon_pt_1', '<f8'), ('Muon_pt_2', '<f8'), ('Electron_pt_1', '<f8'), ('Electron_pt_2', '<f8')])"
      ]
     },
     "execution_count": 47,
     "metadata": {},
     "output_type": "execute_result"
    }
   ],
   "source": [
    "ak_up"
   ]
  },
  {
   "cell_type": "code",
   "execution_count": 62,
   "metadata": {},
   "outputs": [
    {
     "name": "stdout",
     "output_type": "stream",
     "text": [
      "CPU times: user 5.58 s, sys: 0 ns, total: 5.58 s\n",
      "Wall time: 5.58 s\n"
     ]
    }
   ],
   "source": [
    "%%time\n",
    "\n",
    "sys = 'Up'\n",
    "up = ak.Array([[evt[var][sys] for var in evt.fields if hasattr(evt[var], 'fields') and sys in evt[var].fields] for evt in final])"
   ]
  },
  {
   "cell_type": "code",
   "execution_count": 67,
   "metadata": {},
   "outputs": [
    {
     "name": "stdout",
     "output_type": "stream",
     "text": [
      "CPU times: user 5.51 s, sys: 14.8 ms, total: 5.52 s\n",
      "Wall time: 5.52 s\n"
     ]
    }
   ],
   "source": [
    "%%time\n",
    "\n",
    "sys = 'Up'\n",
    "up = np.array([[evt[var][sys] for var in evt.fields if hasattr(evt[var], 'fields') and sys in evt[var].fields] for evt in final])"
   ]
  },
  {
   "cell_type": "code",
   "execution_count": 70,
   "metadata": {},
   "outputs": [],
   "source": [
    "prediction_up = bdt.predict(up)"
   ]
  },
  {
   "cell_type": "code",
   "execution_count": 107,
   "metadata": {},
   "outputs": [
    {
     "data": {
      "text/plain": [
       "(22838,)"
      ]
     },
     "execution_count": 107,
     "metadata": {},
     "output_type": "execute_result"
    }
   ],
   "source": [
    "prediction_up.shape"
   ]
  },
  {
   "cell_type": "code",
   "execution_count": 73,
   "metadata": {},
   "outputs": [],
   "source": [
    "prediction_up_ak = ak.from_numpy(prediction_up)"
   ]
  },
  {
   "cell_type": "code",
   "execution_count": 112,
   "metadata": {},
   "outputs": [
    {
     "data": {
      "text/plain": [
       "<Array [1, 1, 0, 1, 1, 1, ... 1, 1, 0, 1, 1, 1] type='22838 * float64'>"
      ]
     },
     "execution_count": 112,
     "metadata": {},
     "output_type": "execute_result"
    }
   ],
   "source": [
    "prediction_up_ak"
   ]
  },
  {
   "cell_type": "code",
   "execution_count": 127,
   "metadata": {},
   "outputs": [
    {
     "name": "stdout",
     "output_type": "stream",
     "text": [
      "1.0\n",
      "1.0\n",
      "0.0\n"
     ]
    }
   ],
   "source": [
    "for i in prediction_up_ak[:3]:\n",
    "    print(i)"
   ]
  },
  {
   "cell_type": "code",
   "execution_count": 76,
   "metadata": {},
   "outputs": [],
   "source": [
    "# Study how a new complex value can be added to final\n",
    "\n",
    "from copy import copy"
   ]
  },
  {
   "cell_type": "code",
   "execution_count": 132,
   "metadata": {},
   "outputs": [],
   "source": [
    "cp = copy(final)"
   ]
  },
  {
   "cell_type": "code",
   "execution_count": 133,
   "metadata": {},
   "outputs": [
    {
     "data": {
      "text/plain": [
       "22838 * {\"Muon_pt_1\": {\"Nominal\": float64, \"Up\": float64, \"Down\": float64}, \"Muon_pt_2\": {\"Nominal\": float64, \"Up\": float64, \"Down\": float64}, \"Electron_pt_1\": {\"Nominal\": float64, \"Up\": float64, \"Down\": float64}, \"Electron_pt_2\": {\"Nominal\": float64, \"Up\": float64, \"Down\": float64}, \"PV_x\": float64, \"PV_y\": float64, \"PV_z\": float64}"
      ]
     },
     "execution_count": 133,
     "metadata": {},
     "output_type": "execute_result"
    }
   ],
   "source": [
    "cp.type"
   ]
  },
  {
   "cell_type": "code",
   "execution_count": 135,
   "metadata": {},
   "outputs": [
    {
     "data": {
      "text/plain": [
       "awkward.highlevel.Array"
      ]
     },
     "execution_count": 135,
     "metadata": {},
     "output_type": "execute_result"
    }
   ],
   "source": [
    "type(cp['Muon_pt_1'])"
   ]
  },
  {
   "cell_type": "code",
   "execution_count": 147,
   "metadata": {},
   "outputs": [],
   "source": [
    "systematics = ['Up']\n",
    "d = {'Up': prediction_up_ak}\n",
    "def make_evt_dict(d, evt):\n",
    "    return {k: v[evt] for (k, v) in d.items()}\n",
    "    \n",
    "cp['Predict'] = ak.Array([make_evt_dict(d, evt) for evt in range(len(prediction_up_ak))])\n",
    "#cp['Predict'] = ak.Array([{k: prediction_up_ak for k in systematics} for i in range(len(prediction_up_ak))])"
   ]
  },
  {
   "cell_type": "code",
   "execution_count": 148,
   "metadata": {},
   "outputs": [
    {
     "data": {
      "text/plain": [
       "22838 * {\"Muon_pt_1\": {\"Nominal\": float64, \"Up\": float64, \"Down\": float64}, \"Muon_pt_2\": {\"Nominal\": float64, \"Up\": float64, \"Down\": float64}, \"Electron_pt_1\": {\"Nominal\": float64, \"Up\": float64, \"Down\": float64}, \"Electron_pt_2\": {\"Nominal\": float64, \"Up\": float64, \"Down\": float64}, \"PV_x\": float64, \"PV_y\": float64, \"PV_z\": float64, \"Predict\": {\"Up\": float64}}"
      ]
     },
     "execution_count": 148,
     "metadata": {},
     "output_type": "execute_result"
    }
   ],
   "source": [
    "cp.type"
   ]
  },
  {
   "cell_type": "markdown",
   "metadata": {},
   "source": [
    "### Tagger class"
   ]
  },
  {
   "cell_type": "code",
   "execution_count": 28,
   "metadata": {},
   "outputs": [],
   "source": [
    "class Tagger:\n",
    "    def __init__(self, clf, variables, systematics, prediction):\n",
    "        self.clf = clf\n",
    "        self.variables = variables\n",
    "        self.systematics = systematics\n",
    "        self.prediction = prediction\n",
    "        \n",
    "    def predict(self, df):\n",
    "        def get_predicted_array(df, sys):\n",
    "            np_arr_input = np.array([[evt[var][sys] for var in self.variables] for evt in df])\n",
    "            np_arr_output = self.clf.predict(np_arr_input)\n",
    "            return ak.from_numpy(np_arr_output)\n",
    "        def make_evt_dict(d, evt):\n",
    "            return {k: v[evt] for (k, v) in d.items()}\n",
    "        predictions = {sys: arr for (sys, arr) in [(sys, get_predicted_array(df, sys)) for sys in self.systematics]}\n",
    "        df[self.prediction] = ak.Array([make_evt_dict(predictions, evt) for evt in range(len(df))])\n",
    "        return df"
   ]
  },
  {
   "cell_type": "code",
   "execution_count": 29,
   "metadata": {},
   "outputs": [],
   "source": [
    "tagger = Tagger(bdt, nominals_with_sys, ['Nominal', 'Up', 'Down'], 'Y')"
   ]
  },
  {
   "cell_type": "code",
   "execution_count": 30,
   "metadata": {},
   "outputs": [
    {
     "name": "stdout",
     "output_type": "stream",
     "text": [
      "CPU times: user 10.1 s, sys: 34.3 ms, total: 10.2 s\n",
      "Wall time: 6.54 s\n"
     ]
    }
   ],
   "source": [
    "%%time\n",
    "predicted = tagger.predict(final)"
   ]
  },
  {
   "cell_type": "code",
   "execution_count": 32,
   "metadata": {},
   "outputs": [
    {
     "data": {
      "text/plain": [
       "22838 * {\"Muon_pt_1\": {\"Nominal\": float64, \"Up\": float64, \"Down\": float64}, \"Muon_pt_2\": {\"Nominal\": float64, \"Up\": float64, \"Down\": float64}, \"Electron_pt_1\": {\"Nominal\": float64, \"Up\": float64, \"Down\": float64}, \"Electron_pt_2\": {\"Nominal\": float64, \"Up\": float64, \"Down\": float64}, \"PV_x\": float64, \"PV_y\": float64, \"PV_z\": float64, \"Y\": {\"Nominal\": float64, \"Up\": float64, \"Down\": float64}}"
      ]
     },
     "execution_count": 32,
     "metadata": {},
     "output_type": "execute_result"
    }
   ],
   "source": [
    "predicted.type"
   ]
  },
  {
   "cell_type": "markdown",
   "metadata": {},
   "source": [
    "### Selections"
   ]
  },
  {
   "cell_type": "code",
   "execution_count": 79,
   "metadata": {},
   "outputs": [],
   "source": [
    "selected = predicted[predicted['Muon_pt_1']['Nominal'] > 25]"
   ]
  },
  {
   "cell_type": "code",
   "execution_count": 80,
   "metadata": {},
   "outputs": [
    {
     "data": {
      "text/plain": [
       "9270 * {\"Muon_pt_1\": {\"Nominal\": float64, \"Up\": float64, \"Down\": float64}, \"Muon_pt_2\": {\"Nominal\": float64, \"Up\": float64, \"Down\": float64}, \"Electron_pt_1\": {\"Nominal\": float64, \"Up\": float64, \"Down\": float64}, \"Electron_pt_2\": {\"Nominal\": float64, \"Up\": float64, \"Down\": float64}, \"PV_x\": float64, \"PV_y\": float64, \"PV_z\": float64, \"Y\": {\"Nominal\": float64, \"Up\": float64, \"Down\": float64}}"
      ]
     },
     "execution_count": 80,
     "metadata": {},
     "output_type": "execute_result"
    }
   ],
   "source": [
    "selected.type"
   ]
  }
 ],
 "metadata": {
  "kernelspec": {
   "display_name": "Python 3",
   "language": "python",
   "name": "python3"
  },
  "language_info": {
   "codemirror_mode": {
    "name": "ipython",
    "version": 3
   },
   "file_extension": ".py",
   "mimetype": "text/x-python",
   "name": "python",
   "nbconvert_exporter": "python",
   "pygments_lexer": "ipython3",
   "version": "3.7.8"
  }
 },
 "nbformat": 4,
 "nbformat_minor": 4
}
