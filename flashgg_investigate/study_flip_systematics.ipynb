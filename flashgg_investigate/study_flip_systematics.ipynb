{
 "cells": [
  {
   "cell_type": "markdown",
   "metadata": {},
   "source": [
    "# Study Systematics Flip\n",
    "\n",
    "The purpose of this notebook is to check if systematics can be implemented as part of a vector of events in a way that does not increase memory usage.\n",
    "\n",
    "```Muon_pt_1```, ```Muon_pt_2```, ```Electron_pt_1```, ```Electron_pt_2``` are the variables that also have systematics counterparts.\n",
    "\n",
    "```PV_x```, ```PV_y```, ```PV_z``` do not have systematics counterparts."
   ]
  },
  {
   "cell_type": "code",
   "execution_count": 1,
   "metadata": {},
   "outputs": [],
   "source": [
    "import uproot4\n",
    "import pickle\n",
    "import pandas as pd\n",
    "import numpy as np"
   ]
  },
  {
   "cell_type": "code",
   "execution_count": 2,
   "metadata": {},
   "outputs": [
    {
     "name": "stdout",
     "output_type": "stream",
     "text": [
      "name                 | typename                 | interpretation                \n",
      "---------------------+--------------------------+-------------------------------\n",
      "Muon_pt_1            | float                    | AsDtype('>f4')\n",
      "Muon_pt_2            | float                    | AsDtype('>f4')\n",
      "Electron_pt_1        | float                    | AsDtype('>f4')\n",
      "Electron_pt_2        | float                    | AsDtype('>f4')\n",
      "Muon_pt_1_Up         | float                    | AsDtype('>f4')\n",
      "Muon_pt_2_Up         | float                    | AsDtype('>f4')\n",
      "Electron_pt_1_Up     | float                    | AsDtype('>f4')\n",
      "Electron_pt_2_Up     | float                    | AsDtype('>f4')\n",
      "Muon_pt_1_Down       | float                    | AsDtype('>f4')\n",
      "Muon_pt_2_Down       | float                    | AsDtype('>f4')\n",
      "Electron_pt_1_Down   | float                    | AsDtype('>f4')\n",
      "Electron_pt_2_Down   | float                    | AsDtype('>f4')\n",
      "PV_x                 | float                    | AsDtype('>f4')\n",
      "PV_y                 | float                    | AsDtype('>f4')\n",
      "PV_z                 | float                    | AsDtype('>f4')\n"
     ]
    }
   ],
   "source": [
    "# Open root file and ttree\n",
    "\n",
    "file = uproot4.open('test_sys_signal.root')\n",
    "tree = file['Events']\n",
    "tree.show()"
   ]
  },
  {
   "cell_type": "code",
   "execution_count": 3,
   "metadata": {},
   "outputs": [],
   "source": [
    "nominals_with_sys = ['Muon_pt_1', 'Muon_pt_2', 'Electron_pt_1', 'Electron_pt_2']\n",
    "nominals_without_sys = ['PV_x', 'PV_y', 'PV_z']\n",
    "systematics = ['', '_Up', '_Down']"
   ]
  },
  {
   "cell_type": "markdown",
   "metadata": {},
   "source": [
    "## Numpy"
   ]
  },
  {
   "cell_type": "code",
   "execution_count": 29,
   "metadata": {},
   "outputs": [],
   "source": [
    "branches_pd = tree.arrays(library='pd')"
   ]
  },
  {
   "cell_type": "code",
   "execution_count": 30,
   "metadata": {},
   "outputs": [
    {
     "data": {
      "text/html": [
       "<div>\n",
       "<style scoped>\n",
       "    .dataframe tbody tr th:only-of-type {\n",
       "        vertical-align: middle;\n",
       "    }\n",
       "\n",
       "    .dataframe tbody tr th {\n",
       "        vertical-align: top;\n",
       "    }\n",
       "\n",
       "    .dataframe thead th {\n",
       "        text-align: right;\n",
       "    }\n",
       "</style>\n",
       "<table border=\"1\" class=\"dataframe\">\n",
       "  <thead>\n",
       "    <tr style=\"text-align: right;\">\n",
       "      <th></th>\n",
       "      <th>Muon_pt_1</th>\n",
       "      <th>Muon_pt_2</th>\n",
       "      <th>Electron_pt_1</th>\n",
       "      <th>Electron_pt_2</th>\n",
       "      <th>Muon_pt_1_Up</th>\n",
       "      <th>Muon_pt_2_Up</th>\n",
       "      <th>Electron_pt_1_Up</th>\n",
       "      <th>Electron_pt_2_Up</th>\n",
       "      <th>Muon_pt_1_Down</th>\n",
       "      <th>Muon_pt_2_Down</th>\n",
       "      <th>Electron_pt_1_Down</th>\n",
       "      <th>Electron_pt_2_Down</th>\n",
       "      <th>PV_x</th>\n",
       "      <th>PV_y</th>\n",
       "      <th>PV_z</th>\n",
       "    </tr>\n",
       "  </thead>\n",
       "  <tbody>\n",
       "    <tr>\n",
       "      <th>0</th>\n",
       "      <td>17.382437</td>\n",
       "      <td>13.238400</td>\n",
       "      <td>44.744175</td>\n",
       "      <td>58.942070</td>\n",
       "      <td>17.882437</td>\n",
       "      <td>13.738400</td>\n",
       "      <td>45.244175</td>\n",
       "      <td>59.442070</td>\n",
       "      <td>16.882437</td>\n",
       "      <td>12.738400</td>\n",
       "      <td>44.244175</td>\n",
       "      <td>58.442070</td>\n",
       "      <td>0.242114</td>\n",
       "      <td>0.395116</td>\n",
       "      <td>6.090504</td>\n",
       "    </tr>\n",
       "    <tr>\n",
       "      <th>1</th>\n",
       "      <td>50.051613</td>\n",
       "      <td>41.024353</td>\n",
       "      <td>15.959146</td>\n",
       "      <td>5.622648</td>\n",
       "      <td>50.551613</td>\n",
       "      <td>41.524353</td>\n",
       "      <td>16.459146</td>\n",
       "      <td>6.122648</td>\n",
       "      <td>49.551613</td>\n",
       "      <td>40.524353</td>\n",
       "      <td>15.459146</td>\n",
       "      <td>5.122648</td>\n",
       "      <td>0.240533</td>\n",
       "      <td>0.393753</td>\n",
       "      <td>-6.544194</td>\n",
       "    </tr>\n",
       "    <tr>\n",
       "      <th>2</th>\n",
       "      <td>24.702271</td>\n",
       "      <td>41.462658</td>\n",
       "      <td>5.042018</td>\n",
       "      <td>7.994947</td>\n",
       "      <td>25.202271</td>\n",
       "      <td>41.962658</td>\n",
       "      <td>5.542018</td>\n",
       "      <td>8.494947</td>\n",
       "      <td>24.202271</td>\n",
       "      <td>40.962658</td>\n",
       "      <td>4.542018</td>\n",
       "      <td>7.494947</td>\n",
       "      <td>0.245655</td>\n",
       "      <td>0.392481</td>\n",
       "      <td>-12.015012</td>\n",
       "    </tr>\n",
       "    <tr>\n",
       "      <th>3</th>\n",
       "      <td>55.392330</td>\n",
       "      <td>32.569691</td>\n",
       "      <td>16.479095</td>\n",
       "      <td>14.080798</td>\n",
       "      <td>55.892330</td>\n",
       "      <td>33.069691</td>\n",
       "      <td>16.979095</td>\n",
       "      <td>14.580798</td>\n",
       "      <td>54.892330</td>\n",
       "      <td>32.069691</td>\n",
       "      <td>15.979095</td>\n",
       "      <td>13.580798</td>\n",
       "      <td>0.246329</td>\n",
       "      <td>0.394249</td>\n",
       "      <td>-4.695963</td>\n",
       "    </tr>\n",
       "    <tr>\n",
       "      <th>4</th>\n",
       "      <td>37.216637</td>\n",
       "      <td>54.203739</td>\n",
       "      <td>14.535382</td>\n",
       "      <td>17.012287</td>\n",
       "      <td>37.716637</td>\n",
       "      <td>54.703739</td>\n",
       "      <td>15.035382</td>\n",
       "      <td>17.512287</td>\n",
       "      <td>36.716637</td>\n",
       "      <td>53.703739</td>\n",
       "      <td>14.035382</td>\n",
       "      <td>16.512287</td>\n",
       "      <td>0.245821</td>\n",
       "      <td>0.396207</td>\n",
       "      <td>4.705774</td>\n",
       "    </tr>\n",
       "    <tr>\n",
       "      <th>...</th>\n",
       "      <td>...</td>\n",
       "      <td>...</td>\n",
       "      <td>...</td>\n",
       "      <td>...</td>\n",
       "      <td>...</td>\n",
       "      <td>...</td>\n",
       "      <td>...</td>\n",
       "      <td>...</td>\n",
       "      <td>...</td>\n",
       "      <td>...</td>\n",
       "      <td>...</td>\n",
       "      <td>...</td>\n",
       "      <td>...</td>\n",
       "      <td>...</td>\n",
       "      <td>...</td>\n",
       "    </tr>\n",
       "    <tr>\n",
       "      <th>22833</th>\n",
       "      <td>15.948185</td>\n",
       "      <td>10.853278</td>\n",
       "      <td>34.428360</td>\n",
       "      <td>56.252823</td>\n",
       "      <td>16.448185</td>\n",
       "      <td>11.353278</td>\n",
       "      <td>34.928360</td>\n",
       "      <td>56.752823</td>\n",
       "      <td>15.448185</td>\n",
       "      <td>10.353278</td>\n",
       "      <td>33.928360</td>\n",
       "      <td>55.752823</td>\n",
       "      <td>0.245845</td>\n",
       "      <td>0.393200</td>\n",
       "      <td>-0.096518</td>\n",
       "    </tr>\n",
       "    <tr>\n",
       "      <th>22834</th>\n",
       "      <td>3.165293</td>\n",
       "      <td>7.369295</td>\n",
       "      <td>27.072086</td>\n",
       "      <td>28.327864</td>\n",
       "      <td>3.665293</td>\n",
       "      <td>7.869295</td>\n",
       "      <td>27.572086</td>\n",
       "      <td>28.827864</td>\n",
       "      <td>2.665293</td>\n",
       "      <td>6.869295</td>\n",
       "      <td>26.572086</td>\n",
       "      <td>27.827864</td>\n",
       "      <td>0.241983</td>\n",
       "      <td>0.393408</td>\n",
       "      <td>-1.978680</td>\n",
       "    </tr>\n",
       "    <tr>\n",
       "      <th>22835</th>\n",
       "      <td>33.588539</td>\n",
       "      <td>35.164211</td>\n",
       "      <td>14.531511</td>\n",
       "      <td>12.232145</td>\n",
       "      <td>34.088539</td>\n",
       "      <td>35.664211</td>\n",
       "      <td>15.031511</td>\n",
       "      <td>12.732145</td>\n",
       "      <td>33.088539</td>\n",
       "      <td>34.664211</td>\n",
       "      <td>14.031511</td>\n",
       "      <td>11.732145</td>\n",
       "      <td>0.247215</td>\n",
       "      <td>0.393896</td>\n",
       "      <td>-1.357113</td>\n",
       "    </tr>\n",
       "    <tr>\n",
       "      <th>22836</th>\n",
       "      <td>59.003090</td>\n",
       "      <td>21.311920</td>\n",
       "      <td>5.186389</td>\n",
       "      <td>14.721363</td>\n",
       "      <td>59.503090</td>\n",
       "      <td>21.811920</td>\n",
       "      <td>5.686389</td>\n",
       "      <td>15.221363</td>\n",
       "      <td>58.503090</td>\n",
       "      <td>20.811920</td>\n",
       "      <td>4.686389</td>\n",
       "      <td>14.221363</td>\n",
       "      <td>0.245855</td>\n",
       "      <td>0.390907</td>\n",
       "      <td>-14.366134</td>\n",
       "    </tr>\n",
       "    <tr>\n",
       "      <th>22837</th>\n",
       "      <td>42.957253</td>\n",
       "      <td>40.313286</td>\n",
       "      <td>6.656038</td>\n",
       "      <td>8.904449</td>\n",
       "      <td>43.457253</td>\n",
       "      <td>40.813286</td>\n",
       "      <td>7.156038</td>\n",
       "      <td>9.404449</td>\n",
       "      <td>42.457253</td>\n",
       "      <td>39.813286</td>\n",
       "      <td>6.156038</td>\n",
       "      <td>8.404449</td>\n",
       "      <td>0.243276</td>\n",
       "      <td>0.388566</td>\n",
       "      <td>7.005401</td>\n",
       "    </tr>\n",
       "  </tbody>\n",
       "</table>\n",
       "<p>22838 rows × 15 columns</p>\n",
       "</div>"
      ],
      "text/plain": [
       "       Muon_pt_1  Muon_pt_2  Electron_pt_1  Electron_pt_2  Muon_pt_1_Up  \\\n",
       "0      17.382437  13.238400      44.744175      58.942070     17.882437   \n",
       "1      50.051613  41.024353      15.959146       5.622648     50.551613   \n",
       "2      24.702271  41.462658       5.042018       7.994947     25.202271   \n",
       "3      55.392330  32.569691      16.479095      14.080798     55.892330   \n",
       "4      37.216637  54.203739      14.535382      17.012287     37.716637   \n",
       "...          ...        ...            ...            ...           ...   \n",
       "22833  15.948185  10.853278      34.428360      56.252823     16.448185   \n",
       "22834   3.165293   7.369295      27.072086      28.327864      3.665293   \n",
       "22835  33.588539  35.164211      14.531511      12.232145     34.088539   \n",
       "22836  59.003090  21.311920       5.186389      14.721363     59.503090   \n",
       "22837  42.957253  40.313286       6.656038       8.904449     43.457253   \n",
       "\n",
       "       Muon_pt_2_Up  Electron_pt_1_Up  Electron_pt_2_Up  Muon_pt_1_Down  \\\n",
       "0         13.738400         45.244175         59.442070       16.882437   \n",
       "1         41.524353         16.459146          6.122648       49.551613   \n",
       "2         41.962658          5.542018          8.494947       24.202271   \n",
       "3         33.069691         16.979095         14.580798       54.892330   \n",
       "4         54.703739         15.035382         17.512287       36.716637   \n",
       "...             ...               ...               ...             ...   \n",
       "22833     11.353278         34.928360         56.752823       15.448185   \n",
       "22834      7.869295         27.572086         28.827864        2.665293   \n",
       "22835     35.664211         15.031511         12.732145       33.088539   \n",
       "22836     21.811920          5.686389         15.221363       58.503090   \n",
       "22837     40.813286          7.156038          9.404449       42.457253   \n",
       "\n",
       "       Muon_pt_2_Down  Electron_pt_1_Down  Electron_pt_2_Down      PV_x  \\\n",
       "0           12.738400           44.244175           58.442070  0.242114   \n",
       "1           40.524353           15.459146            5.122648  0.240533   \n",
       "2           40.962658            4.542018            7.494947  0.245655   \n",
       "3           32.069691           15.979095           13.580798  0.246329   \n",
       "4           53.703739           14.035382           16.512287  0.245821   \n",
       "...               ...                 ...                 ...       ...   \n",
       "22833       10.353278           33.928360           55.752823  0.245845   \n",
       "22834        6.869295           26.572086           27.827864  0.241983   \n",
       "22835       34.664211           14.031511           11.732145  0.247215   \n",
       "22836       20.811920            4.686389           14.221363  0.245855   \n",
       "22837       39.813286            6.156038            8.404449  0.243276   \n",
       "\n",
       "           PV_y       PV_z  \n",
       "0      0.395116   6.090504  \n",
       "1      0.393753  -6.544194  \n",
       "2      0.392481 -12.015012  \n",
       "3      0.394249  -4.695963  \n",
       "4      0.396207   4.705774  \n",
       "...         ...        ...  \n",
       "22833  0.393200  -0.096518  \n",
       "22834  0.393408  -1.978680  \n",
       "22835  0.393896  -1.357113  \n",
       "22836  0.390907 -14.366134  \n",
       "22837  0.388566   7.005401  \n",
       "\n",
       "[22838 rows x 15 columns]"
      ]
     },
     "execution_count": 30,
     "metadata": {},
     "output_type": "execute_result"
    }
   ],
   "source": [
    "branches_pd"
   ]
  },
  {
   "cell_type": "code",
   "execution_count": 34,
   "metadata": {},
   "outputs": [
    {
     "data": {
      "text/plain": [
       "array([17.382437, 50.051613, 24.70227 , ..., 33.58854 , 59.00309 ,\n",
       "       42.957253], dtype=float32)"
      ]
     },
     "execution_count": 34,
     "metadata": {},
     "output_type": "execute_result"
    }
   ],
   "source": [
    "np.array(branches_pd['Muon_pt_1'])"
   ]
  },
  {
   "cell_type": "code",
   "execution_count": 35,
   "metadata": {},
   "outputs": [],
   "source": [
    "# Make structured array for Muon_pt_1\n",
    "muon_pt_1 = np.array([(branches_pd.loc[i, 'Muon_pt_1'], branches_pd.loc[i, 'Muon_pt_1_Up'], branches_pd.loc[i, 'Muon_pt_1_Down']) for i in range(len(branches_pd))], \n",
    "                     dtype=[('nominal', 'f4'), ('up', 'f4'), ('down', 'f4')])"
   ]
  },
  {
   "cell_type": "code",
   "execution_count": 38,
   "metadata": {},
   "outputs": [
    {
     "data": {
      "text/plain": [
       "(22838,)"
      ]
     },
     "execution_count": 38,
     "metadata": {},
     "output_type": "execute_result"
    }
   ],
   "source": [
    "muon_pt_1.shape"
   ]
  },
  {
   "cell_type": "code",
   "execution_count": 106,
   "metadata": {},
   "outputs": [],
   "source": [
    "'''\n",
    "Attempt: make structured arrays for variables with systematics and flat for the others\n",
    "Unfortunately, fails when concatenating the two arrays for syst and not-syst\n",
    "The only way would be https://stackoverflow.com/questions/39754658/concatenate-arrays-with-mixed-types,\n",
    "but then we loose the possibility to access with arr['nominal'] etc.\n",
    "'''\n",
    "\n",
    "df_sys = np.vstack(tuple(np.array([tuple(branches_pd.loc[i, name] for name in list(map(lambda suf: var + suf, systematics))) \n",
    "                               for i in range(len(branches_pd))], \n",
    "                              dtype=[('nominal', 'f4'), ('up', 'f4'), ('down', 'f4')]) for var in nominals_with_sys)).T\n",
    "\n",
    "'''\n",
    "df_nosys = np.vstack(tuple(np.array([((branches_pd.loc[i, var]))\n",
    "                                     for i in range(len(branches_pd))],\n",
    "                                    dtype=[('nominal', 'f4')]) for var in nominals_without_sys)).T\n",
    "'''\n",
    "\n",
    "df_nosys = np.vstack(tuple(np.array(branches_pd[var]) for var in nominals_without_sys)).T"
   ]
  },
  {
   "cell_type": "code",
   "execution_count": 176,
   "metadata": {},
   "outputs": [],
   "source": [
    "'''Attempt: df_sys is supposed to be a matrix n_evs x nominals_with_sys where every element is a n_sys-dim array\n",
    "Does not work becaus when you concatenate the arrays n_evs x n_sys arrays for the different (nominals_with_sys) variables\n",
    "numpy flattens it\n",
    "'''\n",
    "df_sys = np.vstack(tuple(np.array([np.array([branches_pd.loc[i, name] for name in list(map(lambda suf: var + suf, systematics))])\n",
    "                                   for i in range(len(branches_pd))]) for var in nominals_with_sys))"
   ]
  },
  {
   "cell_type": "code",
   "execution_count": null,
   "metadata": {},
   "outputs": [],
   "source": [
    "np.array([branches_pd.loc[i, name] for name in list(map(lambda suf: 'Muon_pt_1' + suf, systematics))])"
   ]
  },
  {
   "cell_type": "code",
   "execution_count": 156,
   "metadata": {},
   "outputs": [],
   "source": [
    "a = np.array([np.array([branches_pd.loc[i, name] for name in list(map(lambda suf: 'Muon_pt_1' + suf, systematics))]) for i in range(len(branches_pd))])\n",
    "b = np.array([np.array([branches_pd.loc[i, name] for name in list(map(lambda suf: 'Electron_pt_1' + suf, systematics))]) for i in range(len(branches_pd))])"
   ]
  },
  {
   "cell_type": "code",
   "execution_count": 177,
   "metadata": {},
   "outputs": [],
   "source": [
    "'''Attempt: df_sys is a 3D array. It can't be concateneted with a 2D array for df_nosys, unless we fill the gaps with nominals.\n",
    "This would would probably increase the memory usage.\n",
    "'''\n",
    "df_sys = np.array([np.array([np.array([branches_pd.loc[i, name] for name in list(map(lambda suf: var + suf, systematics))])\n",
    "                                   for i in range(len(branches_pd))]) for var in nominals_with_sys])"
   ]
  },
  {
   "cell_type": "code",
   "execution_count": 178,
   "metadata": {},
   "outputs": [
    {
     "data": {
      "text/plain": [
       "(4, 22838, 3)"
      ]
     },
     "execution_count": 178,
     "metadata": {},
     "output_type": "execute_result"
    }
   ],
   "source": [
    "df_sys.shape"
   ]
  },
  {
   "cell_type": "markdown",
   "metadata": {},
   "source": [
    "## Attempt: double structured array\n",
    "\n",
    "The dataframe ends up being a nested structured array. In the outmost one, the fields are the variables (```Muon_pt_1```, ```Electron_pt_1```, ```PV_x```, etc.), whose type is another structured array (```sys_type``` below) for the variables that have systematics, ```float``` for the others. \n",
    "\n",
    "Of course, the type would have to be generalized if the types that we retrieve from the tree are not simple floats.\n",
    "\n",
    "```sys_type``` fields are the systematics themselves, plus ```Nominal```."
   ]
  },
  {
   "cell_type": "code",
   "execution_count": 4,
   "metadata": {},
   "outputs": [],
   "source": [
    "import awkward1 as ak"
   ]
  },
  {
   "cell_type": "code",
   "execution_count": 5,
   "metadata": {},
   "outputs": [],
   "source": [
    "branches = tree.arrays(library='ak')"
   ]
  },
  {
   "cell_type": "code",
   "execution_count": 6,
   "metadata": {},
   "outputs": [
    {
     "data": {
      "text/plain": [
       "22838 * {\"Muon_pt_1\": float32, \"Muon_pt_2\": float32, \"Electron_pt_1\": float32, \"Electron_pt_2\": float32, \"Muon_pt_1_Up\": float32, \"Muon_pt_2_Up\": float32, \"Electron_pt_1_Up\": float32, \"Electron_pt_2_Up\": float32, \"Muon_pt_1_Down\": float32, \"Muon_pt_2_Down\": float32, \"Electron_pt_1_Down\": float32, \"Electron_pt_2_Down\": float32, \"PV_x\": float32, \"PV_y\": float32, \"PV_z\": float32}"
      ]
     },
     "execution_count": 6,
     "metadata": {},
     "output_type": "execute_result"
    }
   ],
   "source": [
    "ak.type(branches)"
   ]
  },
  {
   "cell_type": "markdown",
   "metadata": {},
   "source": [
    "### Generalize"
   ]
  },
  {
   "cell_type": "code",
   "execution_count": 7,
   "metadata": {},
   "outputs": [],
   "source": [
    "sys_type = np.dtype([('Nominal', 'float32') if sys == '' else (sys, 'float32') for sys in systematics])"
   ]
  },
  {
   "cell_type": "code",
   "execution_count": 8,
   "metadata": {},
   "outputs": [
    {
     "data": {
      "text/plain": [
       "dtype([('Nominal', '<f4'), ('_Up', '<f4'), ('_Down', '<f4')])"
      ]
     },
     "execution_count": 8,
     "metadata": {},
     "output_type": "execute_result"
    }
   ],
   "source": [
    "sys_type"
   ]
  },
  {
   "cell_type": "code",
   "execution_count": 9,
   "metadata": {},
   "outputs": [],
   "source": [
    "table_type = np.dtype([(var, sys_type) for var in nominals_with_sys] + [(var, 'f4') for var in nominals_without_sys])"
   ]
  },
  {
   "cell_type": "code",
   "execution_count": 10,
   "metadata": {},
   "outputs": [
    {
     "data": {
      "text/plain": [
       "dtype([('Muon_pt_1', [('Nominal', '<f4'), ('_Up', '<f4'), ('_Down', '<f4')]), ('Muon_pt_2', [('Nominal', '<f4'), ('_Up', '<f4'), ('_Down', '<f4')]), ('Electron_pt_1', [('Nominal', '<f4'), ('_Up', '<f4'), ('_Down', '<f4')]), ('Electron_pt_2', [('Nominal', '<f4'), ('_Up', '<f4'), ('_Down', '<f4')]), ('PV_x', '<f4'), ('PV_y', '<f4'), ('PV_z', '<f4')])"
      ]
     },
     "execution_count": 10,
     "metadata": {},
     "output_type": "execute_result"
    }
   ],
   "source": [
    "table_type"
   ]
  },
  {
   "cell_type": "code",
   "execution_count": 11,
   "metadata": {},
   "outputs": [
    {
     "name": "stdout",
     "output_type": "stream",
     "text": [
      "CPU times: user 9.33 s, sys: 86.5 ms, total: 9.42 s\n",
      "Wall time: 9.42 s\n"
     ]
    }
   ],
   "source": [
    "%%time\n",
    "\n",
    "final = np.array([tuple([np.array(tuple([branches[name][i] for name in list(map(lambda suf: var + suf, systematics))]), sys_type) for var in nominals_with_sys] \n",
    "                        + [branches[var][i] for var in nominals_without_sys]) \n",
    "                  for i in range(len(branches))], dtype=table_type)"
   ]
  },
  {
   "cell_type": "markdown",
   "metadata": {},
   "source": [
    "### Try some operations"
   ]
  },
  {
   "cell_type": "code",
   "execution_count": 12,
   "metadata": {},
   "outputs": [
    {
     "data": {
      "text/plain": [
       "(22838,)"
      ]
     },
     "execution_count": 12,
     "metadata": {},
     "output_type": "execute_result"
    }
   ],
   "source": [
    "final.shape"
   ]
  },
  {
   "cell_type": "code",
   "execution_count": 13,
   "metadata": {},
   "outputs": [
    {
     "name": "stdout",
     "output_type": "stream",
     "text": [
      "Event 0: ((17.382437, 17.882437, 16.882437), (13.2383995, 13.7383995, 12.7383995), (44.744175, 45.244175, 44.244175), (58.94207, 59.44207, 58.44207), 0.24211372, 0.39511582, 6.090504)\n",
      "Event 1: ((50.051613, 50.551613, 49.551613), (41.024353, 41.524353, 40.524353), (15.9591465, 16.459146, 15.4591465), (5.622648, 6.122648, 5.122648), 0.24053279, 0.39375338, -6.5441937)\n",
      "Event 2: ((24.70227, 25.20227, 24.20227), (41.462658, 41.962658, 40.962658), (5.042018, 5.542018, 4.542018), (7.9949474, 8.494947, 7.4949474), 0.24565527, 0.39248142, -12.015012)\n"
     ]
    }
   ],
   "source": [
    "# Slicing\n",
    "\n",
    "for i, evt in enumerate(final[0:3]):\n",
    "    print('Event {}: {}'.format(i, evt))"
   ]
  },
  {
   "cell_type": "code",
   "execution_count": 14,
   "metadata": {},
   "outputs": [
    {
     "data": {
      "text/plain": [
       "array([(17.382437, 17.882437, 16.882437),\n",
       "       (50.051613, 50.551613, 49.551613),\n",
       "       (24.70227 , 25.20227 , 24.20227 ), ...,\n",
       "       (33.58854 , 34.08854 , 33.08854 ),\n",
       "       (59.00309 , 59.50309 , 58.50309 ),\n",
       "       (42.957253, 43.457253, 42.457253)],\n",
       "      dtype=[('Nominal', '<f4'), ('_Up', '<f4'), ('_Down', '<f4')])"
      ]
     },
     "execution_count": 14,
     "metadata": {},
     "output_type": "execute_result"
    }
   ],
   "source": [
    "final['Muon_pt_1']"
   ]
  },
  {
   "cell_type": "code",
   "execution_count": 15,
   "metadata": {},
   "outputs": [
    {
     "name": "stdout",
     "output_type": "stream",
     "text": [
      "Event 0: Nominal 17.382436752319336, Up 17.882436752319336, Down 16.882436752319336\n",
      "Event 1: Nominal 50.051612854003906, Up 50.551612854003906, Down 49.551612854003906\n",
      "Event 2: Nominal 24.7022705078125, Up 25.2022705078125, Down 24.2022705078125\n"
     ]
    }
   ],
   "source": [
    "for i, evt in enumerate(final['Muon_pt_1'][0:3]):\n",
    "    print('Event {}: Nominal {}, Up {}, Down {}'.format(i, evt['Nominal'], evt['_Up'], evt['_Down']))"
   ]
  },
  {
   "cell_type": "markdown",
   "metadata": {},
   "source": [
    "### Taggers"
   ]
  },
  {
   "cell_type": "code",
   "execution_count": 16,
   "metadata": {},
   "outputs": [],
   "source": [
    "import pickle"
   ]
  },
  {
   "cell_type": "code",
   "execution_count": 17,
   "metadata": {},
   "outputs": [],
   "source": [
    "# unpickle trained model\n",
    "bdt = pickle.load(open('classifier.pkl', 'rb'))"
   ]
  },
  {
   "cell_type": "markdown",
   "metadata": {},
   "source": [
    "First we study how to add a new column to a structured Numpy array"
   ]
  },
  {
   "cell_type": "code",
   "execution_count": 41,
   "metadata": {},
   "outputs": [],
   "source": [
    "new_col = np.array([tuple(np.array([(0,0,0)], dtype=sys_type)) for i in range(len(final))], dtype=[('Predicted', sys_type)])"
   ]
  },
  {
   "cell_type": "code",
   "execution_count": 45,
   "metadata": {},
   "outputs": [
    {
     "data": {
      "text/plain": [
       "array([0., 0., 0., ..., 0., 0., 0.], dtype=float32)"
      ]
     },
     "execution_count": 45,
     "metadata": {},
     "output_type": "execute_result"
    }
   ],
   "source": [
    "new_col['Predicted']['Nominal']"
   ]
  },
  {
   "cell_type": "code",
   "execution_count": 33,
   "metadata": {},
   "outputs": [],
   "source": [
    "import numpy.lib.recfunctions as rfn"
   ]
  },
  {
   "cell_type": "code",
   "execution_count": null,
   "metadata": {},
   "outputs": [],
   "source": [
    "#final_added = rfn.merge_arrays((final, new_col), flatten=True)"
   ]
  },
  {
   "cell_type": "code",
   "execution_count": 54,
   "metadata": {},
   "outputs": [],
   "source": [
    "# Making a whole new one\n",
    "\n",
    "new_dtype = np.dtype(final.dtype.descr + [('Predicted', sys_type)])"
   ]
  },
  {
   "cell_type": "code",
   "execution_count": 57,
   "metadata": {},
   "outputs": [],
   "source": [
    "new_df = np.empty(final.shape, dtype=new_dtype)"
   ]
  },
  {
   "cell_type": "code",
   "execution_count": 58,
   "metadata": {},
   "outputs": [],
   "source": [
    "for var in nominals_with_sys + nominals_without_sys:\n",
    "    new_df[var] = final[var]\n",
    "new_df['Predicted'] = new_col['Predicted']"
   ]
  },
  {
   "cell_type": "code",
   "execution_count": 71,
   "metadata": {},
   "outputs": [
    {
     "data": {
      "text/plain": [
       "array([((17.382437, 17.882437, 16.882437), (13.2383995, 13.7383995, 12.7383995), (44.744175 , 45.244175 , 44.244175 ), (58.94207  , 59.44207  , 58.44207  ), 0.24211372, 0.39511582,   6.090504 , (0., 0., 0.)),\n",
       "       ((50.051613, 50.551613, 49.551613), (41.024353 , 41.524353 , 40.524353 ), (15.9591465, 16.459146 , 15.4591465), ( 5.622648 ,  6.122648 ,  5.122648 ), 0.24053279, 0.39375338,  -6.5441937, (0., 0., 0.)),\n",
       "       ((24.70227 , 25.20227 , 24.20227 ), (41.462658 , 41.962658 , 40.962658 ), ( 5.042018 ,  5.542018 ,  4.542018 ), ( 7.9949474,  8.494947 ,  7.4949474), 0.24565527, 0.39248142, -12.015012 , (0., 0., 0.)),\n",
       "       ...,\n",
       "       ((33.58854 , 34.08854 , 33.08854 ), (35.16421  , 35.66421  , 34.66421  ), (14.531511 , 15.031511 , 14.031511 ), (12.232145 , 12.732145 , 11.732145 ), 0.24721472, 0.3938958 ,  -1.3571125, (0., 0., 0.)),\n",
       "       ((59.00309 , 59.50309 , 58.50309 ), (21.31192  , 21.81192  , 20.81192  ), ( 5.1863894,  5.6863894,  4.6863894), (14.721363 , 15.221363 , 14.221363 ), 0.24585512, 0.39090726, -14.366134 , (0., 0., 0.)),\n",
       "       ((42.957253, 43.457253, 42.457253), (40.313286 , 40.813286 , 39.813286 ), ( 6.6560383,  7.1560383,  6.1560383), ( 8.9044485,  9.4044485,  8.4044485), 0.24327561, 0.38856584,   7.0054007, (0., 0., 0.))],\n",
       "      dtype=[('Muon_pt_1', [('Nominal', '<f4'), ('_Up', '<f4'), ('_Down', '<f4')]), ('Muon_pt_2', [('Nominal', '<f4'), ('_Up', '<f4'), ('_Down', '<f4')]), ('Electron_pt_1', [('Nominal', '<f4'), ('_Up', '<f4'), ('_Down', '<f4')]), ('Electron_pt_2', [('Nominal', '<f4'), ('_Up', '<f4'), ('_Down', '<f4')]), ('PV_x', '<f4'), ('PV_y', '<f4'), ('PV_z', '<f4'), ('Predicted', [('Nominal', '<f4'), ('_Up', '<f4'), ('_Down', '<f4')])])"
      ]
     },
     "execution_count": 71,
     "metadata": {},
     "output_type": "execute_result"
    }
   ],
   "source": [
    "new_df"
   ]
  },
  {
   "cell_type": "code",
   "execution_count": 67,
   "metadata": {},
   "outputs": [],
   "source": [
    "def perform_inference(df, clf, nominals, systematics, new_column):\n",
    "    '''Given a classifier that takes n columns as input, recursively apply\n",
    "    the classifier on the n columns specified by the combination of nominal\n",
    "    with the elements in systematics\n",
    "    '''\n",
    "    model_features = clf.get_booster().feature_names\n",
    "    for sys in systematics:\n",
    "        columns = list(map(lambda pref: pref + sys, nominals))\n",
    "        df[new_column + sys] = clf.predict(df.rename(\n",
    "            columns=dict(zip(columns, model_features)), inplace=False)[model_features])\n",
    "        df = df.rename(columns=dict(zip(model_features, columns)))\n",
    "    return df"
   ]
  },
  {
   "cell_type": "code",
   "execution_count": 65,
   "metadata": {},
   "outputs": [],
   "source": [
    "# First we try to produce a new_column with the results of the application of the booster to final\n",
    "p = pd.DataFrame(final)\n",
    "df = perform_inference(p, bdt, nominals_with_sys, systematics, new_column='Y')"
   ]
  },
  {
   "cell_type": "code",
   "execution_count": 80,
   "metadata": {},
   "outputs": [],
   "source": [
    "# Create 2D array from final in order to feed the classifier\n",
    "inp = np.array([[final[var][i] for var in nominals_with_sys] for i in range(len(final))])"
   ]
  },
  {
   "cell_type": "code",
   "execution_count": 82,
   "metadata": {},
   "outputs": [
    {
     "data": {
      "text/plain": [
       "array([(17.382437, 17.882437, 16.882437),\n",
       "       (50.051613, 50.551613, 49.551613),\n",
       "       (24.70227 , 25.20227 , 24.20227 ), ...,\n",
       "       (33.58854 , 34.08854 , 33.08854 ),\n",
       "       (59.00309 , 59.50309 , 58.50309 ),\n",
       "       (42.957253, 43.457253, 42.457253)],\n",
       "      dtype=[('Nominal', '<f4'), ('_Up', '<f4'), ('_Down', '<f4')])"
      ]
     },
     "execution_count": 82,
     "metadata": {},
     "output_type": "execute_result"
    }
   ],
   "source": [
    "inp[:, 0]"
   ]
  },
  {
   "cell_type": "markdown",
   "metadata": {},
   "source": [
    "# Awkward"
   ]
  },
  {
   "cell_type": "code",
   "execution_count": 194,
   "metadata": {},
   "outputs": [],
   "source": [
    "import awkward1 as ak"
   ]
  },
  {
   "cell_type": "code",
   "execution_count": 209,
   "metadata": {},
   "outputs": [],
   "source": [
    "branches = tree.arrays(library='ak')"
   ]
  },
  {
   "cell_type": "code",
   "execution_count": 241,
   "metadata": {},
   "outputs": [
    {
     "data": {
      "text/plain": [
       "<Array [{Muon_pt_1: 17.4, ... PV_z: 7.01}] type='22838 * {\"Muon_pt_1\": float32, ...'>"
      ]
     },
     "execution_count": 241,
     "metadata": {},
     "output_type": "execute_result"
    }
   ],
   "source": [
    "branches"
   ]
  },
  {
   "cell_type": "code",
   "execution_count": 242,
   "metadata": {},
   "outputs": [
    {
     "data": {
      "text/plain": [
       "22838 * {\"Muon_pt_1\": float32, \"Muon_pt_2\": float32, \"Electron_pt_1\": float32, \"Electron_pt_2\": float32, \"Muon_pt_1_Up\": float32, \"Muon_pt_2_Up\": float32, \"Electron_pt_1_Up\": float32, \"Electron_pt_2_Up\": float32, \"Muon_pt_1_Down\": float32, \"Muon_pt_2_Down\": float32, \"Electron_pt_1_Down\": float32, \"Electron_pt_2_Down\": float32, \"PV_x\": float32, \"PV_y\": float32, \"PV_z\": float32}"
      ]
     },
     "execution_count": 242,
     "metadata": {},
     "output_type": "execute_result"
    }
   ],
   "source": [
    "ak.type(branches)"
   ]
  },
  {
   "cell_type": "code",
   "execution_count": 218,
   "metadata": {},
   "outputs": [
    {
     "data": {
      "text/plain": [
       "22838"
      ]
     },
     "execution_count": 218,
     "metadata": {},
     "output_type": "execute_result"
    }
   ],
   "source": [
    "len(branches)"
   ]
  },
  {
   "cell_type": "markdown",
   "metadata": {},
   "source": [
    "### Step by step"
   ]
  },
  {
   "cell_type": "code",
   "execution_count": 213,
   "metadata": {},
   "outputs": [
    {
     "data": {
      "text/plain": [
       "[17.382436752319336, 17.882436752319336, 16.882436752319336]"
      ]
     },
     "execution_count": 213,
     "metadata": {},
     "output_type": "execute_result"
    }
   ],
   "source": [
    "[branches[name][0] for name in list(map(lambda suf: 'Muon_pt_1'+suf, systematics))]"
   ]
  },
  {
   "cell_type": "code",
   "execution_count": 215,
   "metadata": {},
   "outputs": [
    {
     "data": {
      "text/plain": [
       "<Array [17.4, 17.9, 16.9] type='3 * float64'>"
      ]
     },
     "execution_count": 215,
     "metadata": {},
     "output_type": "execute_result"
    }
   ],
   "source": [
    "ak.Array([branches[name][0] for name in list(map(lambda suf: 'Muon_pt_1' + suf, systematics))])"
   ]
  },
  {
   "cell_type": "code",
   "execution_count": 219,
   "metadata": {},
   "outputs": [
    {
     "data": {
      "text/plain": [
       "<Array [[17.4, 17.9, 16.9, ... 17.9, 16.9]] type='22838 * var * float64'>"
      ]
     },
     "execution_count": 219,
     "metadata": {},
     "output_type": "execute_result"
    }
   ],
   "source": [
    "ak.Array([ak.Array([branches[name][0] for name in list(map(lambda suf: 'Muon_pt_1' + suf, systematics))]) for i in range(len(branches))])"
   ]
  },
  {
   "cell_type": "code",
   "execution_count": 221,
   "metadata": {},
   "outputs": [],
   "source": [
    "np_array = np.array([ak.Array([ak.Array([branches[name][0] for name in list(map(lambda suf: 'Muon_pt_1' + suf, systematics))]) for i in range(len(branches))])], dtype=[('nominal', 'f4'), ('up', 'f4'), ('down', 'f4')])"
   ]
  },
  {
   "cell_type": "code",
   "execution_count": 223,
   "metadata": {},
   "outputs": [
    {
     "data": {
      "text/plain": [
       "1 * {\"nominal\": 22838 * 3 * float32, \"up\": 22838 * 3 * float32, \"down\": 22838 * 3 * float32}"
      ]
     },
     "execution_count": 223,
     "metadata": {},
     "output_type": "execute_result"
    }
   ],
   "source": [
    "ak.type(ak.from_numpy(np_array))"
   ]
  },
  {
   "cell_type": "code",
   "execution_count": 243,
   "metadata": {},
   "outputs": [],
   "source": [
    "muon_pt_numpy = np.array([tuple(branches[name][i] for name in list(map(lambda suf: 'Muon_pt_1' + suf, systematics))) \n",
    "                               for i in range(len(branches))], \n",
    "                              dtype=[('nominal', 'f4'), ('up', 'f4'), ('down', 'f4')])"
   ]
  },
  {
   "cell_type": "code",
   "execution_count": 244,
   "metadata": {},
   "outputs": [
    {
     "data": {
      "text/plain": [
       "array([(17.382437, 17.882437, 16.882437),\n",
       "       (50.051613, 50.551613, 49.551613),\n",
       "       (24.70227 , 25.20227 , 24.20227 ), ...,\n",
       "       (33.58854 , 34.08854 , 33.08854 ),\n",
       "       (59.00309 , 59.50309 , 58.50309 ),\n",
       "       (42.957253, 43.457253, 42.457253)],\n",
       "      dtype=[('nominal', '<f4'), ('up', '<f4'), ('down', '<f4')])"
      ]
     },
     "execution_count": 244,
     "metadata": {},
     "output_type": "execute_result"
    }
   ],
   "source": [
    "muon_pt_numpy"
   ]
  },
  {
   "cell_type": "code",
   "execution_count": 245,
   "metadata": {},
   "outputs": [
    {
     "data": {
      "text/plain": [
       "numpy.ndarray"
      ]
     },
     "execution_count": 245,
     "metadata": {},
     "output_type": "execute_result"
    }
   ],
   "source": [
    "type(muon_pt_numpy)"
   ]
  },
  {
   "cell_type": "code",
   "execution_count": 254,
   "metadata": {},
   "outputs": [
    {
     "data": {
      "text/plain": [
       "(22838,)"
      ]
     },
     "execution_count": 254,
     "metadata": {},
     "output_type": "execute_result"
    }
   ],
   "source": [
    "muon_pt_numpy.shape"
   ]
  },
  {
   "cell_type": "code",
   "execution_count": 246,
   "metadata": {},
   "outputs": [],
   "source": [
    "electron_pt_numpy = np.array([tuple(branches[name][i] for name in list(map(lambda suf: 'Electron_pt_1' + suf, systematics))) \n",
    "                               for i in range(len(branches))], \n",
    "                              dtype=[('nominal', 'f4'), ('up', 'f4'), ('down', 'f4')])"
   ]
  },
  {
   "cell_type": "code",
   "execution_count": 247,
   "metadata": {},
   "outputs": [
    {
     "data": {
      "text/plain": [
       "array([(44.744175 , 45.244175 , 44.244175 ),\n",
       "       (15.9591465, 16.459146 , 15.4591465),\n",
       "       ( 5.042018 ,  5.542018 ,  4.542018 ), ...,\n",
       "       (14.531511 , 15.031511 , 14.031511 ),\n",
       "       ( 5.1863894,  5.6863894,  4.6863894),\n",
       "       ( 6.6560383,  7.1560383,  6.1560383)],\n",
       "      dtype=[('nominal', '<f4'), ('up', '<f4'), ('down', '<f4')])"
      ]
     },
     "execution_count": 247,
     "metadata": {},
     "output_type": "execute_result"
    }
   ],
   "source": [
    "electron_pt_numpy"
   ]
  },
  {
   "cell_type": "code",
   "execution_count": 248,
   "metadata": {},
   "outputs": [
    {
     "data": {
      "text/plain": [
       "numpy.ndarray"
      ]
     },
     "execution_count": 248,
     "metadata": {},
     "output_type": "execute_result"
    }
   ],
   "source": [
    "type(electron_pt_numpy)"
   ]
  },
  {
   "cell_type": "code",
   "execution_count": 249,
   "metadata": {},
   "outputs": [],
   "source": [
    "pv_numpy = np.array(branches['PV_x'])"
   ]
  },
  {
   "cell_type": "code",
   "execution_count": 250,
   "metadata": {},
   "outputs": [
    {
     "data": {
      "text/plain": [
       "array([0.24211372, 0.24053279, 0.24565527, ..., 0.24721472, 0.24585512,\n",
       "       0.24327561], dtype=float32)"
      ]
     },
     "execution_count": 250,
     "metadata": {},
     "output_type": "execute_result"
    }
   ],
   "source": [
    "pv_numpy"
   ]
  },
  {
   "cell_type": "code",
   "execution_count": 251,
   "metadata": {},
   "outputs": [
    {
     "data": {
      "text/plain": [
       "numpy.ndarray"
      ]
     },
     "execution_count": 251,
     "metadata": {},
     "output_type": "execute_result"
    }
   ],
   "source": [
    "type(pv_numpy)"
   ]
  },
  {
   "cell_type": "code",
   "execution_count": 253,
   "metadata": {},
   "outputs": [
    {
     "data": {
      "text/plain": [
       "(22838,)"
      ]
     },
     "execution_count": 253,
     "metadata": {},
     "output_type": "execute_result"
    }
   ],
   "source": [
    "pv_numpy.shape"
   ]
  },
  {
   "cell_type": "code",
   "execution_count": 265,
   "metadata": {},
   "outputs": [],
   "source": [
    "tp = np.dtype([('nominal', 'f4'), ('up', 'f4'), ('down', 'f4')]) "
   ]
  },
  {
   "cell_type": "code",
   "execution_count": null,
   "metadata": {},
   "outputs": [],
   "source": [
    "all_numpy = np.array()"
   ]
  }
 ],
 "metadata": {
  "kernelspec": {
   "display_name": "Python 3",
   "language": "python",
   "name": "python3"
  },
  "language_info": {
   "codemirror_mode": {
    "name": "ipython",
    "version": 3
   },
   "file_extension": ".py",
   "mimetype": "text/x-python",
   "name": "python",
   "nbconvert_exporter": "python",
   "pygments_lexer": "ipython3",
   "version": "3.7.8"
  }
 },
 "nbformat": 4,
 "nbformat_minor": 4
}
