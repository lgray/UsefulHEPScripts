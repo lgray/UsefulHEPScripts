{
 "cells": [
  {
   "cell_type": "markdown",
   "metadata": {},
   "source": [
    "# Awkward"
   ]
  },
  {
   "cell_type": "code",
   "execution_count": 1,
   "metadata": {},
   "outputs": [],
   "source": [
    "import uproot"
   ]
  },
  {
   "cell_type": "code",
   "execution_count": 2,
   "metadata": {},
   "outputs": [],
   "source": [
    "file = uproot.open('test_nanoaod_99_Skim.root')"
   ]
  },
  {
   "cell_type": "code",
   "execution_count": 3,
   "metadata": {},
   "outputs": [
    {
     "data": {
      "text/plain": [
       "{'autoPU': 'TH1D',\n",
       " 'Events': 'TTree',\n",
       " 'Runs': 'TTree',\n",
       " 'ParameterSets': 'TTree',\n",
       " 'LuminosityBlocks': 'TTree',\n",
       " 'MetaData': 'TTree',\n",
       " 'tag': 'TObjString'}"
      ]
     },
     "execution_count": 3,
     "metadata": {},
     "output_type": "execute_result"
    }
   ],
   "source": [
    "file.classnames()"
   ]
  },
  {
   "cell_type": "code",
   "execution_count": 4,
   "metadata": {},
   "outputs": [],
   "source": [
    "_events = file['Events']"
   ]
  },
  {
   "cell_type": "code",
   "execution_count": null,
   "metadata": {},
   "outputs": [],
   "source": [
    "_events.show()"
   ]
  },
  {
   "cell_type": "code",
   "execution_count": 6,
   "metadata": {},
   "outputs": [
    {
     "name": "stdout",
     "output_type": "stream",
     "text": [
      "CPU times: user 145 ms, sys: 14.5 ms, total: 159 ms\n",
      "Wall time: 164 ms\n"
     ]
    }
   ],
   "source": [
    "%%time\n",
    "# Get Photon_pt_MCScale + systematics\n",
    "\n",
    "photon_pt_mc_scale = _events.arrays(filter_name='Photon_pt_MCScale*')"
   ]
  },
  {
   "cell_type": "code",
   "execution_count": 9,
   "metadata": {},
   "outputs": [
    {
     "data": {
      "text/plain": [
       "['Photon_pt_MCScaleUp',\n",
       " 'Photon_pt_MCScaleDown',\n",
       " 'Photon_pt_MCScaleGainUp',\n",
       " 'Photon_pt_MCScaleGainDown']"
      ]
     },
     "execution_count": 9,
     "metadata": {},
     "output_type": "execute_result"
    }
   ],
   "source": [
    "photon_pt_mc_scale.fields"
   ]
  },
  {
   "cell_type": "code",
   "execution_count": 18,
   "metadata": {},
   "outputs": [
    {
     "name": "stdout",
     "output_type": "stream",
     "text": [
      "CPU times: user 9.4 s, sys: 16.3 ms, total: 9.42 s\n",
      "Wall time: 9.42 s\n"
     ]
    }
   ],
   "source": [
    "%%time\n",
    "events = _events.arrays()"
   ]
  },
  {
   "cell_type": "code",
   "execution_count": 19,
   "metadata": {},
   "outputs": [],
   "source": [
    "_runs = file['Runs']"
   ]
  },
  {
   "cell_type": "code",
   "execution_count": 21,
   "metadata": {},
   "outputs": [
    {
     "name": "stdout",
     "output_type": "stream",
     "text": [
      "name                 | typename                 | interpretation                \n",
      "---------------------+--------------------------+-------------------------------\n",
      "run                  | uint32_t                 | AsDtype('>u4')\n",
      "genEventCount        | int64_t                  | AsDtype('>i8')\n",
      "genEventSumw         | double                   | AsDtype('>f8')\n",
      "genEventSumw2        | double                   | AsDtype('>f8')\n",
      "nLHEScaleSumw        | uint32_t                 | AsDtype('>u4')\n",
      "LHEScaleSumw         | double[]                 | AsJagged(AsDtype('>f8'))\n",
      "nLHEPdfSumw          | uint32_t                 | AsDtype('>u4')\n",
      "LHEPdfSumw           | double[]                 | AsJagged(AsDtype('>f8'))\n"
     ]
    }
   ],
   "source": [
    "_runs.show()"
   ]
  },
  {
   "cell_type": "code",
   "execution_count": 22,
   "metadata": {},
   "outputs": [
    {
     "name": "stdout",
     "output_type": "stream",
     "text": [
      "CPU times: user 7.56 ms, sys: 25 µs, total: 7.59 ms\n",
      "Wall time: 7.13 ms\n"
     ]
    }
   ],
   "source": [
    "%%time\n",
    "runs = _runs.arrays()"
   ]
  },
  {
   "cell_type": "code",
   "execution_count": 54,
   "metadata": {},
   "outputs": [],
   "source": [
    "_pars = file['ParameterSets']"
   ]
  },
  {
   "cell_type": "code",
   "execution_count": 55,
   "metadata": {},
   "outputs": [
    {
     "name": "stdout",
     "output_type": "stream",
     "text": [
      "name                 | typename                 | interpretation                \n",
      "---------------------+--------------------------+-------------------------------\n",
      "IdToParameterSets... | pair<edm::Hash<1>,edm... | AsObjects(Model_pair_3c_edm...\n"
     ]
    }
   ],
   "source": [
    "_pars.show()"
   ]
  },
  {
   "cell_type": "code",
   "execution_count": null,
   "metadata": {},
   "outputs": [],
   "source": [
    "# Fails\n",
    "pars = _pars.arrays(library='pd')"
   ]
  },
  {
   "cell_type": "code",
   "execution_count": 26,
   "metadata": {},
   "outputs": [],
   "source": [
    "_lumi = file['LuminosityBlocks']"
   ]
  },
  {
   "cell_type": "code",
   "execution_count": 27,
   "metadata": {},
   "outputs": [
    {
     "name": "stdout",
     "output_type": "stream",
     "text": [
      "name                 | typename                 | interpretation                \n",
      "---------------------+--------------------------+-------------------------------\n",
      "run                  | uint32_t                 | AsDtype('>u4')\n",
      "luminosityBlock      | uint32_t                 | AsDtype('>u4')\n"
     ]
    }
   ],
   "source": [
    "_lumi.show()"
   ]
  },
  {
   "cell_type": "code",
   "execution_count": 28,
   "metadata": {},
   "outputs": [
    {
     "name": "stdout",
     "output_type": "stream",
     "text": [
      "CPU times: user 4.17 ms, sys: 12 µs, total: 4.19 ms\n",
      "Wall time: 4.1 ms\n"
     ]
    }
   ],
   "source": [
    "%%time\n",
    "lumi = _lumi.arrays() "
   ]
  },
  {
   "cell_type": "code",
   "execution_count": 57,
   "metadata": {},
   "outputs": [],
   "source": [
    "_meta = file['MetaData']"
   ]
  },
  {
   "cell_type": "code",
   "execution_count": 58,
   "metadata": {},
   "outputs": [
    {
     "name": "stdout",
     "output_type": "stream",
     "text": [
      "name                 | typename                 | interpretation                \n",
      "---------------------+--------------------------+-------------------------------\n",
      "ProcessHistory       | std::vector<edm::Proc... | AsObjects(AsVector(True, Mo...\n"
     ]
    }
   ],
   "source": [
    "_meta.show()"
   ]
  },
  {
   "cell_type": "code",
   "execution_count": null,
   "metadata": {},
   "outputs": [],
   "source": [
    "# Fails\n",
    "meta = _meta.arrays()"
   ]
  },
  {
   "cell_type": "code",
   "execution_count": 33,
   "metadata": {},
   "outputs": [],
   "source": [
    "tag = file['tag']"
   ]
  },
  {
   "cell_type": "code",
   "execution_count": 34,
   "metadata": {},
   "outputs": [
    {
     "data": {
      "text/plain": [
       "<TObjString 'untagged' at 0x7f994d7e8750>"
      ]
     },
     "execution_count": 34,
     "metadata": {},
     "output_type": "execute_result"
    }
   ],
   "source": [
    "tag"
   ]
  },
  {
   "cell_type": "markdown",
   "metadata": {},
   "source": [
    "# RDataFrame"
   ]
  },
  {
   "cell_type": "code",
   "execution_count": 33,
   "metadata": {},
   "outputs": [],
   "source": [
    "import ROOT"
   ]
  },
  {
   "cell_type": "code",
   "execution_count": 34,
   "metadata": {},
   "outputs": [],
   "source": [
    "file = ROOT.TFile('test_nanoaod_99_Skim.root')"
   ]
  },
  {
   "cell_type": "code",
   "execution_count": 35,
   "metadata": {},
   "outputs": [
    {
     "name": "stdout",
     "output_type": "stream",
     "text": [
      "TFile**\t\ttest_nanoaod_99_Skim.root\t\n",
      " TFile*\t\ttest_nanoaod_99_Skim.root\t\n",
      "  KEY: TH1D\tautoPU;1\tpileup\n",
      "  KEY: TTree\tEvents;1\tEvents\n",
      "  KEY: TTree\tRuns;1\tRuns\n",
      "  KEY: TTree\tParameterSets;1\tParameter sets\n",
      "  KEY: TTree\tLuminosityBlocks;1\tLuminosityBlocks\n",
      "  KEY: TTree\tMetaData;1\tJob metadata\n",
      "  KEY: TObjString\ttag;1\tCollectable string class\n"
     ]
    }
   ],
   "source": [
    "file.ls()"
   ]
  },
  {
   "cell_type": "code",
   "execution_count": 36,
   "metadata": {},
   "outputs": [],
   "source": [
    "pars = ROOT.RDataFrame('ParameterSets', file)"
   ]
  },
  {
   "cell_type": "code",
   "execution_count": 26,
   "metadata": {},
   "outputs": [],
   "source": [
    "# Fails\n",
    "#d = pars.Display('')\n",
    "#d.Print()"
   ]
  },
  {
   "cell_type": "code",
   "execution_count": 27,
   "metadata": {},
   "outputs": [],
   "source": [
    "#cols = [name for name in pars.GetColumnNames()]"
   ]
  },
  {
   "cell_type": "code",
   "execution_count": 37,
   "metadata": {},
   "outputs": [],
   "source": [
    "pars = file.Get('ParameterSets')"
   ]
  },
  {
   "cell_type": "code",
   "execution_count": 41,
   "metadata": {},
   "outputs": [
    {
     "name": "stdout",
     "output_type": "stream",
     "text": [
      "Name: IdToParameterSetsBlobs Title: IdToParameterSetsBlobs\n"
     ]
    }
   ],
   "source": [
    "for i in pars.GetListOfBranches():\n",
    "    print(i)"
   ]
  },
  {
   "cell_type": "code",
   "execution_count": 42,
   "metadata": {},
   "outputs": [],
   "source": [
    "id = pars.GetBranch('IdToParameterSetsBlobs')"
   ]
  }
 ],
 "metadata": {
  "kernelspec": {
   "display_name": "Python 3",
   "language": "python",
   "name": "python3"
  },
  "language_info": {
   "codemirror_mode": {
    "name": "ipython",
    "version": 3
   },
   "file_extension": ".py",
   "mimetype": "text/x-python",
   "name": "python",
   "nbconvert_exporter": "python",
   "pygments_lexer": "ipython3",
   "version": "3.7.7"
  }
 },
 "nbformat": 4,
 "nbformat_minor": 4
}
