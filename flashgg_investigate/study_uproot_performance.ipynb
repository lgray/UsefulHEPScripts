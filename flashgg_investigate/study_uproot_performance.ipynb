{
 "cells": [
  {
   "cell_type": "code",
   "execution_count": 1,
   "metadata": {},
   "outputs": [],
   "source": [
    "import uproot4"
   ]
  },
  {
   "cell_type": "code",
   "execution_count": 2,
   "metadata": {},
   "outputs": [],
   "source": [
    "%load_ext snakeviz"
   ]
  },
  {
   "cell_type": "markdown",
   "metadata": {},
   "source": [
    "```performance_study.root``` is the file containing the TnP MC ntuples"
   ]
  },
  {
   "cell_type": "code",
   "execution_count": 3,
   "metadata": {},
   "outputs": [],
   "source": [
    "file = uproot4.open('performance_study.root')"
   ]
  },
  {
   "cell_type": "code",
   "execution_count": 4,
   "metadata": {},
   "outputs": [],
   "source": [
    "tree = file['Events']"
   ]
  },
  {
   "cell_type": "markdown",
   "metadata": {},
   "source": [
    "Measure how the I/O time scales with the number if branches exctracted"
   ]
  },
  {
   "cell_type": "code",
   "execution_count": 6,
   "metadata": {},
   "outputs": [
    {
     "name": "stdout",
     "output_type": "stream",
     "text": [
      "Extracting one branch\n",
      "[56, 77, 68.2, 81.5, 90.4, 93.7, 91.3, ... 112, 77.3, 90.8, 98.3, 90.8, 95.4, 89.9]\n",
      "CPU times: user 848 ms, sys: 130 ms, total: 978 ms\n",
      "Wall time: 1.2 s\n"
     ]
    }
   ],
   "source": [
    "%%time\n",
    "#%%snakeviz\n",
    "print('Extracting one branch')\n",
    "\n",
    "mass = tree['mass'].array()\n",
    "print(mass)"
   ]
  },
  {
   "cell_type": "code",
   "execution_count": 7,
   "metadata": {},
   "outputs": [
    {
     "name": "stdout",
     "output_type": "stream",
     "text": [
      "Extracting 9 branches\n",
      "[{probeFull5x5_e1x5: 10.8, probeFull5x5_e2x5: 14.5, ... probeFull5x5_r9: 0.982}]\n",
      "CPU times: user 4.55 s, sys: 810 ms, total: 5.36 s\n",
      "Wall time: 5.36 s\n"
     ]
    }
   ],
   "source": [
    "%%time\n",
    "#%%snakeviz\n",
    "flt = 'probeFull*'\n",
    "print('Extracting {} branches'.format(len(tree.keys(filter_name=flt))))\n",
    "\n",
    "probes = tree.arrays(filter_name=flt)\n",
    "print(probes)"
   ]
  },
  {
   "cell_type": "code",
   "execution_count": 22,
   "metadata": {},
   "outputs": [
    {
     "name": "stdout",
     "output_type": "stream",
     "text": [
      "Extracting 71 branches\n",
      "[{probeInitialEnergy: 35.3, probeEnergy: 35.4, ... probeEtaWidth: 0.0127}]\n",
      "CPU times: user 28.2 s, sys: 3.18 s, total: 31.4 s\n",
      "Wall time: 31.4 s\n"
     ]
    }
   ],
   "source": [
    "%%time\n",
    "#%%snakeviz\n",
    "flt = 'probe*'\n",
    "print('Extracting {} branches'.format(len(tree.keys(filter_name=flt))))\n",
    "\n",
    "probes = tree.arrays(filter_name=flt)\n",
    "print(probes)"
   ]
  },
  {
   "cell_type": "code",
   "execution_count": 23,
   "metadata": {},
   "outputs": [
    {
     "name": "stdout",
     "output_type": "stream",
     "text": [
      "Extracting 71 branches separately\n",
      "CPU times: user 28.7 s, sys: 614 ms, total: 29.3 s\n",
      "Wall time: 29.3 s\n"
     ]
    }
   ],
   "source": [
    "%%time\n",
    "probe_keys = [key for key in tree.keys() if key.startswith('probe')]\n",
    "print('Extracting {} branches separately'.format(len(probe_keys)))\n",
    "\n",
    "probes = []\n",
    "for key in probe_keys:\n",
    "    probes.append(tree[key].array())"
   ]
  },
  {
   "cell_type": "code",
   "execution_count": 9,
   "metadata": {},
   "outputs": [
    {
     "name": "stdout",
     "output_type": "stream",
     "text": [
      "Extracting all 152 branches\n",
      "[{candidate_id: 0, weight: 0.0481, mass: 56, pt: 77, ... npu: 40.4, puweight: 1}]\n",
      "CPU times: user 59.2 s, sys: 9.33 s, total: 1min 8s\n",
      "Wall time: 1min 8s\n"
     ]
    }
   ],
   "source": [
    "%%time\n",
    "#%%snakeviz\n",
    "print('Extracting all {} branches'.format(len(tree.keys())))\n",
    "\n",
    "branches = tree.arrays()\n",
    "print(branches)"
   ]
  },
  {
   "cell_type": "markdown",
   "metadata": {},
   "source": [
    "Define new branches as functions of existing ones"
   ]
  },
  {
   "cell_type": "code",
   "execution_count": 13,
   "metadata": {},
   "outputs": [
    {
     "name": "stdout",
     "output_type": "stream",
     "text": [
      "[{squared_mass: 3.13e+03, rho: 22.9, lumi: 927273}, ... rho: 21.3, lumi: 1603529}]\n",
      "CPU times: user 1.91 s, sys: 139 ms, total: 2.05 s\n",
      "Wall time: 2.04 s\n"
     ]
    }
   ],
   "source": [
    "%%time\n",
    "squared_mass = tree.arrays(['squared_mass', 'rho', 'lumi'], aliases = {'squared_mass': 'mass**2'})\n",
    "\n",
    "print(squared_mass)"
   ]
  },
  {
   "cell_type": "markdown",
   "metadata": {},
   "source": [
    "Extract branches after applying cut which is function of a branch I don't want to extract"
   ]
  },
  {
   "cell_type": "code",
   "execution_count": 17,
   "metadata": {},
   "outputs": [
    {
     "name": "stdout",
     "output_type": "stream",
     "text": [
      "Extracting 71 branches\n",
      "[{probeInitialEnergy: 35.3, probeEnergy: 35.4, ... probeEtaWidth: 0.0127}]\n",
      "CPU times: user 28.3 s, sys: 1.99 s, total: 30.2 s\n",
      "Wall time: 30.2 s\n"
     ]
    }
   ],
   "source": [
    "%%time\n",
    "#%%snakeviz\n",
    "flt = 'probe*'\n",
    "cut = 'mass > 60 and -5 < eta < -1'\n",
    "print('Extracting {} branches'.format(len(tree.keys(filter_name=flt))))\n",
    "\n",
    "probes = tree.arrays(filter_name=flt)\n",
    "print(probes)"
   ]
  },
  {
   "cell_type": "markdown",
   "metadata": {},
   "source": [
    "Use ```iterate``` to separate the file into batches"
   ]
  },
  {
   "cell_type": "code",
   "execution_count": 25,
   "metadata": {},
   "outputs": [
    {
     "name": "stdout",
     "output_type": "stream",
     "text": [
      "<Array [{candidate_id: 0, ... puweight: 1}] type='20975999 * {\"candidate_id\": in...'>\n",
      "CPU times: user 59.4 s, sys: 11.2 s, total: 1min 10s\n",
      "Wall time: 1min 10s\n"
     ]
    }
   ],
   "source": [
    "%%time\n",
    "\n",
    "for batch in tree.iterate(step_size=\"8 GB\"):\n",
    "    print(repr(batch))"
   ]
  },
  {
   "cell_type": "markdown",
   "metadata": {},
   "source": [
    "Study ```TChain```-like behavior"
   ]
  },
  {
   "cell_type": "code",
   "execution_count": 26,
   "metadata": {},
   "outputs": [],
   "source": [
    "# Data                                                                                                                                                             \n",
    "base_dir = '/work/gallim/root_files/tnp_original/20201130_data_UL18'\n",
    "file_name = 'output_EGamma_alesauva-UL2018_0-10_6_4-v0-Run2018{}-12Nov2019_UL2018-{}-981b04a73c9458401b9ffd78fdd24189_USER_{}.root'\n",
    "number = 500\n",
    "tree_path = 'tagAndProbeDumper/trees/Data_13TeV_All'\n",
    "runs_id = [('A', 'v2'), ('B', 'v2'), ('C', 'v2'), ('D', 'v4')]\n",
    "\n",
    "# Simulation\n",
    "base_dir = '/work/gallim/root_files/tnp_original/20201130_mc_UL18'\n",
    "file_name = 'output_DYJetsToLL_M-50_TuneCP5_13TeV-amcatnloFXFX-pythia8_alesauva-UL2018_0-10_6_4-v0-RunIISummer19UL18MiniAOD-106X_upgrade2018_realistic_v11_L1v1-v2-b5e482a1b1e11b6e5da123f4bf46db27_USER_{}.root'\n",
    "number = 500\n",
    "tree_path = 'tagAndProbeDumper/trees/DYJetsToLL_amcatnloFXFX_13TeV_All'\n",
    "\n",
    "\n",
    "def get_all_files(base_dir, file_name, number, tree_path, runs_id = None):\n",
    "    files = []\n",
    "    \n",
    "    if runs_id is None:\n",
    "        runs_id = []\n",
    "                                                                                                                                                                       \n",
    "    if runs_id:\n",
    "        for ri in runs_id:\n",
    "            for num in range(number):\n",
    "                files.append(base_dir + '/' + file_name.format(ri[0], ri[1], num) + ':' + tree_path)\n",
    "    else:\n",
    "        for num in range(1, number):\n",
    "            files.append(base_dir + '/' + file_name.format(num) + ':' + tree_path)\n",
    "\n",
    "    return files"
   ]
  },
  {
   "cell_type": "code",
   "execution_count": null,
   "metadata": {},
   "outputs": [],
   "source": [
    "%%time\n",
    "# MC\n",
    "for batch in uproot4.iterate(get_all_files(base_dir, file_name, number, tree_path)):\n",
    "    print(repr(batch))"
   ]
  },
  {
   "cell_type": "code",
   "execution_count": 33,
   "metadata": {},
   "outputs": [],
   "source": [
    "%%time\n",
    "df = uproot4.lazy(get_all_files(base_dir, file_name, number, tree_path))"
   ]
  },
  {
   "cell_type": "code",
   "execution_count": 35,
   "metadata": {},
   "outputs": [
    {
     "name": "stdout",
     "output_type": "stream",
     "text": [
      "CPU times: user 1min 37s, sys: 1.39 s, total: 1min 38s\n",
      "Wall time: 1min 38s\n"
     ]
    }
   ],
   "source": [
    "%%time\n",
    "df = uproot.lazy(get_all_files(base_dir, file_name, number, tree_path))"
   ]
  },
  {
   "cell_type": "code",
   "execution_count": 36,
   "metadata": {},
   "outputs": [
    {
     "ename": "AttributeError",
     "evalue": "no field named 'cache'\n\n(https://github.com/scikit-hep/awkward-1.0/blob/1.0.0/src/awkward/highlevel.py#L1066)",
     "output_type": "error",
     "traceback": [
      "\u001b[0;31m---------------------------------------------------------------------------\u001b[0m",
      "\u001b[0;31mAttributeError\u001b[0m                            Traceback (most recent call last)",
      "\u001b[0;32m<ipython-input-36-3894f4648b70>\u001b[0m in \u001b[0;36m<module>\u001b[0;34m\u001b[0m\n\u001b[0;32m----> 1\u001b[0;31m \u001b[0mdf\u001b[0m\u001b[0;34m.\u001b[0m\u001b[0mcache\u001b[0m\u001b[0;34m\u001b[0m\u001b[0;34m\u001b[0m\u001b[0m\n\u001b[0m",
      "\u001b[0;32m/work/gallim/anaconda3/envs/my_messy_root/lib/python3.7/site-packages/awkward/highlevel.py\u001b[0m in \u001b[0;36m__getattr__\u001b[0;34m(self, where)\u001b[0m\n\u001b[1;32m   1064\u001b[0m                 raise AttributeError(\n\u001b[1;32m   1065\u001b[0m                     \u001b[0;34m\"no field named {0}\"\u001b[0m\u001b[0;34m.\u001b[0m\u001b[0mformat\u001b[0m\u001b[0;34m(\u001b[0m\u001b[0mrepr\u001b[0m\u001b[0;34m(\u001b[0m\u001b[0mwhere\u001b[0m\u001b[0;34m)\u001b[0m\u001b[0;34m)\u001b[0m\u001b[0;34m\u001b[0m\u001b[0;34m\u001b[0m\u001b[0m\n\u001b[0;32m-> 1066\u001b[0;31m                     \u001b[0;34m+\u001b[0m \u001b[0mak\u001b[0m\u001b[0;34m.\u001b[0m\u001b[0m_util\u001b[0m\u001b[0;34m.\u001b[0m\u001b[0mexception_suffix\u001b[0m\u001b[0;34m(\u001b[0m\u001b[0m__file__\u001b[0m\u001b[0;34m)\u001b[0m\u001b[0;34m\u001b[0m\u001b[0;34m\u001b[0m\u001b[0m\n\u001b[0m\u001b[1;32m   1067\u001b[0m                 )\n\u001b[1;32m   1068\u001b[0m \u001b[0;34m\u001b[0m\u001b[0m\n",
      "\u001b[0;31mAttributeError\u001b[0m: no field named 'cache'\n\n(https://github.com/scikit-hep/awkward-1.0/blob/1.0.0/src/awkward/highlevel.py#L1066)"
     ]
    }
   ],
   "source": [
    "df.cache"
   ]
  },
  {
   "cell_type": "code",
   "execution_count": null,
   "metadata": {},
   "outputs": [],
   "source": []
  }
 ],
 "metadata": {
  "kernelspec": {
   "display_name": "Python 3",
   "language": "python",
   "name": "python3"
  },
  "language_info": {
   "codemirror_mode": {
    "name": "ipython",
    "version": 3
   },
   "file_extension": ".py",
   "mimetype": "text/x-python",
   "name": "python",
   "nbconvert_exporter": "python",
   "pygments_lexer": "ipython3",
   "version": "3.7.8"
  }
 },
 "nbformat": 4,
 "nbformat_minor": 4
}
