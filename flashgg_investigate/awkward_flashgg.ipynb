{
 "cells": [
  {
   "cell_type": "markdown",
   "metadata": {},
   "source": [
    "# Awkward Array 4 Flashgg \n",
    "\n",
    "As a natural consequence of ```study_flip_systematics.ipynb```, here we focus on data maniuplation with **Awkward Array**, taking care of implementing in a clear and efficient way all the operations that Flashgg is supposed to perform"
   ]
  },
  {
   "cell_type": "code",
   "execution_count": null,
   "metadata": {},
   "outputs": [],
   "source": [
    "import uproot\n",
    "import awkward as ak\n",
    "import numpy as np\n",
    "import pickle"
   ]
  },
  {
   "cell_type": "code",
   "execution_count": null,
   "metadata": {},
   "outputs": [],
   "source": [
    "# Open root file and ttree\n",
    "\n",
    "file = uproot.open('test_sys_signal.root')\n",
    "tree = file['Events']\n",
    "tree.show()"
   ]
  },
  {
   "cell_type": "code",
   "execution_count": null,
   "metadata": {},
   "outputs": [],
   "source": [
    "# Useful variables\n",
    "\n",
    "variables_with_sys = ['Muon_pt_1', 'Muon_pt_2', 'Electron_pt_1', 'Electron_pt_2']\n",
    "variables_without_sys = ['PV_x', 'PV_y', 'PV_z']\n",
    "systematics = ['', '_Up', '_Down']\n",
    "\n",
    "variables = variables_with_sys + variables_without_sys"
   ]
  },
  {
   "cell_type": "code",
   "execution_count": null,
   "metadata": {},
   "outputs": [],
   "source": [
    "# Useful functions\n",
    "\n",
    "def get_branches(file_name, tree_name):\n",
    "    \"\"\" Extract as a record type Awkward array the branches belonging to the tree \"tree_name\" inside \"file_name\".\n",
    "    \"\"\"\n",
    "    file = uproot.open(file_name)\n",
    "    tree = file[tree_name]\n",
    "    branches = tree.arrays(library='ak')\n",
    "    return branches\n",
    "    \n",
    "def get_systematics_record(event, var, systematics):\n",
    "    \"\"\" Given an event (i.e. a row of a record type Awkward array) and a variable, return a dictionary where the keys are\n",
    "    the systematics (\"Nominal\", \"Up\", \"Down\", etc.) and the values are the elements found in evt[variable + systematic].\n",
    "    This is done for every \"variable + systematic\" EXISTENT field. \n",
    "    \n",
    "    \"\"\"\n",
    "    systematics_record = {}\n",
    "    for sys in systematics:\n",
    "        if sys == \"\":\n",
    "            placeholder = \"Nominal\"\n",
    "        else:\n",
    "            placeholder = sys.replace(\"_\", \"\")\n",
    "        key = \"{}{}\".format(var, sys)\n",
    "        if key in event.fields:\n",
    "            systematics_record[placeholder] = event[key]\n",
    "    return systematics_record\n",
    "\n",
    "def get_variables_record(event, variables, systematics):\n",
    "    \"\"\"Given an event, a list of variables and a list of systematics, return a dictionary where the keys are the variables\n",
    "    and the values are dictionaries built with the function get_systematics_record.\n",
    "    \"\"\"\n",
    "    variables_record = {}\n",
    "    for var in variables:\n",
    "        variables_record[var] = get_systematics_record(event, var, systematics)\n",
    "    return variables_record\n",
    "\n",
    "def extract_and_manipulate(file_name, tree_name, variables, systematics):\n",
    "    input_df = get_branches(file_name, tree_name)\n",
    "    output_df = ak.Array([get_variables_record(evt, variables, systematics) for evt in input_df])\n",
    "    return output_df"
   ]
  },
  {
   "cell_type": "code",
   "execution_count": null,
   "metadata": {},
   "outputs": [],
   "source": [
    "%%time\n",
    "\n",
    "df = extract_and_manipulate('test_sys_signal.root', 'Events', variables, systematics)"
   ]
  },
  {
   "cell_type": "code",
   "execution_count": null,
   "metadata": {},
   "outputs": [],
   "source": [
    "df.type"
   ]
  },
  {
   "cell_type": "markdown",
   "metadata": {},
   "source": [
    "## Tagger"
   ]
  },
  {
   "cell_type": "code",
   "execution_count": null,
   "metadata": {},
   "outputs": [],
   "source": [
    "class Tagger:\n",
    "    def __init__(self, clf, variables, systematics, prediction):\n",
    "        self.clf = clf\n",
    "        self.variables = variables\n",
    "        self.systematics = systematics\n",
    "        self.prediction = prediction\n",
    "        \n",
    "    def predict(self, df):\n",
    "        def get_predicted_array(df, sys):\n",
    "            np_arr_input = np.array([df[var][sys] for var in self.variables])\n",
    "            np_arr_output = self.clf.predict(np_arr_input.T)\n",
    "            return ak.from_numpy(np_arr_output)\n",
    "        \n",
    "        predictions = {sys: arr for (sys, arr) in [(sys, get_predicted_array(df, sys)) for sys in self.systematics]}\n",
    "        df[self.prediction] = ak.Array(predictions)\n",
    "        return df"
   ]
  },
  {
   "cell_type": "code",
   "execution_count": null,
   "metadata": {},
   "outputs": [],
   "source": [
    "bdt = pickle.load(open('classifier.pkl', 'rb'))"
   ]
  },
  {
   "cell_type": "code",
   "execution_count": null,
   "metadata": {},
   "outputs": [],
   "source": [
    "tagger = Tagger(bdt, variables_with_sys, ['Nominal', 'Up', 'Down'], 'Y')"
   ]
  },
  {
   "cell_type": "code",
   "execution_count": null,
   "metadata": {},
   "outputs": [],
   "source": [
    "%%time\n",
    "\n",
    "df_pred = tagger.predict(df)"
   ]
  },
  {
   "cell_type": "code",
   "execution_count": null,
   "metadata": {},
   "outputs": [],
   "source": [
    "df_pred.type"
   ]
  },
  {
   "cell_type": "markdown",
   "metadata": {},
   "source": [
    "## Selections"
   ]
  },
  {
   "cell_type": "code",
   "execution_count": null,
   "metadata": {},
   "outputs": [],
   "source": [
    "sel_one = df_pred[df_pred['Muon_pt_1']['Nominal'] > 25]"
   ]
  },
  {
   "cell_type": "code",
   "execution_count": null,
   "metadata": {},
   "outputs": [],
   "source": [
    "sel_one.type"
   ]
  },
  {
   "cell_type": "code",
   "execution_count": null,
   "metadata": {},
   "outputs": [],
   "source": [
    "sel_two = df_pred[(df_pred['Muon_pt_1']['Nominal'] > 25) & (df_pred['Electron_pt_1']['Nominal'] < 40)]"
   ]
  },
  {
   "cell_type": "code",
   "execution_count": null,
   "metadata": {},
   "outputs": [],
   "source": [
    "sel_two.type"
   ]
  },
  {
   "cell_type": "code",
   "execution_count": null,
   "metadata": {},
   "outputs": [],
   "source": [
    "sel_two = df_pred[np.logical_and(df_pred['Muon_pt_1']['Nominal'] > 25, df_pred['Electron_pt_1']['Nominal'] < 40)]"
   ]
  },
  {
   "cell_type": "code",
   "execution_count": null,
   "metadata": {},
   "outputs": [],
   "source": [
    "sel_two.type"
   ]
  },
  {
   "cell_type": "markdown",
   "metadata": {},
   "source": [
    "# Alternative: Awkward without structured array-like configuration"
   ]
  },
  {
   "cell_type": "code",
   "execution_count": null,
   "metadata": {},
   "outputs": [],
   "source": [
    "%%time\n",
    "\n",
    "file = uproot.open('test_sys_signal.root')\n",
    "tree = file['Events']\n",
    "df = tree.arrays(library='ak')"
   ]
  },
  {
   "cell_type": "code",
   "execution_count": null,
   "metadata": {},
   "outputs": [],
   "source": [
    "df.type"
   ]
  },
  {
   "cell_type": "code",
   "execution_count": null,
   "metadata": {},
   "outputs": [],
   "source": [
    "class Tagger:\n",
    "    def __init__(self, clf, variables, systematics_dict, prediction):\n",
    "        self.clf = clf\n",
    "        self.variables = variables\n",
    "        self.systematics_dict = systematics_dict\n",
    "        self.prediction = prediction\n",
    "        \n",
    "    def predict(self, df):\n",
    "        for suff in self.systematics_dict.values():\n",
    "            features = np.array([df[var + suff] for var in self.variables])\n",
    "            df[self.prediction + suff] = self.clf.predict(features.T)\n",
    "        return df"
   ]
  },
  {
   "cell_type": "code",
   "execution_count": null,
   "metadata": {},
   "outputs": [],
   "source": [
    "systematics_dict = {'Nominal': '', 'Up': '_Up', 'Down': '_Down'}\n",
    "tagger = Tagger(bdt, variables_with_sys, systematics_dict, 'Y')"
   ]
  },
  {
   "cell_type": "code",
   "execution_count": null,
   "metadata": {},
   "outputs": [],
   "source": [
    "%%time\n",
    "\n",
    "df_pred = tagger.predict(df)"
   ]
  },
  {
   "cell_type": "code",
   "execution_count": null,
   "metadata": {},
   "outputs": [],
   "source": [
    "df_pred.type"
   ]
  }
 ],
 "metadata": {
  "kernelspec": {
   "display_name": "Python 3",
   "language": "python",
   "name": "python3"
  },
  "language_info": {
   "codemirror_mode": {
    "name": "ipython",
    "version": 3
   },
   "file_extension": ".py",
   "mimetype": "text/x-python",
   "name": "python",
   "nbconvert_exporter": "python",
   "pygments_lexer": "ipython3",
   "version": "3.7.7"
  }
 },
 "nbformat": 4,
 "nbformat_minor": 4
}
