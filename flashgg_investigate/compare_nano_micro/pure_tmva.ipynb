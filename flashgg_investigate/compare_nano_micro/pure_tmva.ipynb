{
 "cells": [
  {
   "cell_type": "markdown",
   "metadata": {},
   "source": [
    "see https://root.cern.ch/doc/v610/ApplicationClassificationKeras_8py_source.html"
   ]
  },
  {
   "cell_type": "code",
   "execution_count": 1,
   "metadata": {},
   "outputs": [
    {
     "name": "stdout",
     "output_type": "stream",
     "text": [
      "Welcome to JupyROOT 6.22/02\n"
     ]
    }
   ],
   "source": [
    "# /work/gallim/anaconda3/envs/dask-pyroot-tutorial/bin/python\n",
    "import ROOT\n",
    "import uproot\n",
    "import awkward as ak\n",
    "from array import array\n",
    "import uproot3"
   ]
  },
  {
   "cell_type": "code",
   "execution_count": 2,
   "metadata": {},
   "outputs": [],
   "source": [
    "output_dir = \"/eos/home-g/gallim/www/plots/Hgg/NanoMicroCompare\"\n",
    "xml_model = \"/work/gallim/devel/HiggsDNA_studies/tmva-to-xgboost/2017_weights/PhoID_barrel_UL2017_GJetMC_SATrain_nTree2k_LR_0p1_13052020_BDTG.weights.xml\"\n",
    "processed_nano = \"processed_nano.root\""
   ]
  },
  {
   "cell_type": "code",
   "execution_count": 3,
   "metadata": {},
   "outputs": [],
   "source": [
    "inputs = {\n",
    "    \"lead_energyRaw\": \"SCRawE\", \n",
    "    \"lead_r9\": \"r9\", \n",
    "    \"lead_sieie\":\"sigmaIetaIeta\", \n",
    "    \"lead_etaWidth\": \"etaWidth\", \n",
    "    \"lead_phiWidth\": \"phiWidth\", \n",
    "    \"lead_sieip\": \"covIEtaIPhi\", \n",
    "    \"lead_s4\": \"s4\", \n",
    "    \"lead_pfPhoIso03\": \"phoIso03\", \n",
    "    \"lead_pfChargedIsoPFPV\": \"chgIsoWrtChosenVtx\", \n",
    "    \"lead_pfChargedIsoWorstVtx\": \"chgIsoWrtWorstVtx\",\n",
    "    \"lead_eta\": \"scEta\", \n",
    "    \"lead_fixedGridRhoAll\": \"rho\"\n",
    "}"
   ]
  },
  {
   "cell_type": "code",
   "execution_count": 4,
   "metadata": {},
   "outputs": [],
   "source": [
    "#nanoaod_files_dir = \"/work/gallim/devel/HiggsDNA_studies/out/test/GluGluHToGG_M125_TuneCP5_13TeV-amcatnloFXFX-pythia8\"\n",
    "#nanoaod_arr = ak.from_parquet(nanoaod_files_dir, columns=inputs)"
   ]
  },
  {
   "cell_type": "code",
   "execution_count": 5,
   "metadata": {},
   "outputs": [
    {
     "data": {
      "text/plain": [
       "'\\nwith uproot3.recreate(processed_nano) as f:\\n    branchdict = {}\\n    arraydict = {}\\n    \\n    for input_name in inputs.keys():\\n        branchdict[input_name] = str(nanoaod_arr[input_name].type.type).replace(\\'?\\', \\'\\')\\n        arraydict[input_name] = nanoaod_arr[input_name]\\n    \\n    f[\"Events\"] = uproot3.newtree(branchdict)\\n    f[\"Events\"].extend(arraydict)\\n'"
      ]
     },
     "execution_count": 5,
     "metadata": {},
     "output_type": "execute_result"
    }
   ],
   "source": [
    "# Write to ROOT file\n",
    "\n",
    "\"\"\"\n",
    "with uproot3.recreate(processed_nano) as f:\n",
    "    branchdict = {}\n",
    "    arraydict = {}\n",
    "    \n",
    "    for input_name in inputs.keys():\n",
    "        branchdict[input_name] = str(nanoaod_arr[input_name].type.type).replace('?', '')\n",
    "        arraydict[input_name] = nanoaod_arr[input_name]\n",
    "    \n",
    "    f[\"Events\"] = uproot3.newtree(branchdict)\n",
    "    f[\"Events\"].extend(arraydict)\n",
    "\"\"\""
   ]
  },
  {
   "cell_type": "code",
   "execution_count": 6,
   "metadata": {},
   "outputs": [],
   "source": [
    "# Setup TMVA\n",
    "ROOT.TMVA.Tools.Instance()\n",
    "ROOT.TMVA.PyMethodBase.PyInitialize()\n",
    "reader = ROOT.TMVA.Reader(\"Color:!Silent\")"
   ]
  },
  {
   "cell_type": "code",
   "execution_count": 7,
   "metadata": {},
   "outputs": [],
   "source": [
    "# Load data\n",
    "data = ROOT.TFile(processed_nano)\n",
    "events = data.Get(\"Events\")"
   ]
  },
  {
   "cell_type": "code",
   "execution_count": 8,
   "metadata": {},
   "outputs": [],
   "source": [
    "branches = {}\n",
    "\n",
    "for branch in events.GetListOfBranches():\n",
    "    name = branch.GetName()\n",
    "    tmva_name = inputs[name]\n",
    "    branches[tmva_name] = array(\"f\", [-999])\n",
    "    reader.AddVariable(tmva_name, branches[tmva_name])\n",
    "    events.SetBranchAddress(name, branches[tmva_name])"
   ]
  },
  {
   "cell_type": "code",
   "execution_count": 9,
   "metadata": {},
   "outputs": [
    {
     "data": {
      "text/plain": [
       "{'SCRawE': array('f', [-999.0]),\n",
       " 'r9': array('f', [-999.0]),\n",
       " 'sigmaIetaIeta': array('f', [-999.0]),\n",
       " 'etaWidth': array('f', [-999.0]),\n",
       " 'phiWidth': array('f', [-999.0]),\n",
       " 'covIEtaIPhi': array('f', [-999.0]),\n",
       " 's4': array('f', [-999.0]),\n",
       " 'phoIso03': array('f', [-999.0]),\n",
       " 'chgIsoWrtChosenVtx': array('f', [-999.0]),\n",
       " 'chgIsoWrtWorstVtx': array('f', [-999.0]),\n",
       " 'scEta': array('f', [-999.0]),\n",
       " 'rho': array('f', [-999.0])}"
      ]
     },
     "execution_count": 9,
     "metadata": {},
     "output_type": "execute_result"
    }
   ],
   "source": [
    "branches"
   ]
  },
  {
   "cell_type": "code",
   "execution_count": 10,
   "metadata": {},
   "outputs": [
    {
     "data": {
      "text/plain": [
       "<cppyy.gbl.TMVA.MethodBDT object at 0x56061dbbf360>"
      ]
     },
     "execution_count": 10,
     "metadata": {},
     "output_type": "execute_result"
    },
    {
     "name": "stdout",
     "output_type": "stream",
     "text": [
      "                         : Booking \"BDT\" of type \"BDT\" from /work/gallim/devel/HiggsDNA_studies/tmva-to-xgboost/2017_weights/PhoID_barrel_UL2017_GJetMC_SATrain_nTree2k_LR_0p1_13052020_BDTG.weights.xml.\n",
      "                         : Reading weight file: \u001b[0;36m/work/gallim/devel/HiggsDNA_studies/tmva-to-xgboost/2017_weights/PhoID_barrel_UL2017_GJetMC_SATrain_nTree2k_LR_0p1_13052020_BDTG.weights.xml\u001b[0m\n",
      "DataSetInfo              : [Default] : Added class \"Signal\"\n",
      "DataSetInfo              : [Default] : Added class \"Background\"\n",
      "                         : Booked classifier \"BDTG\" of type: \"BDT\"\n"
     ]
    }
   ],
   "source": [
    "reader.BookMVA(\"BDT\", ROOT.TString(xml_model))"
   ]
  },
  {
   "cell_type": "code",
   "execution_count": 11,
   "metadata": {},
   "outputs": [
    {
     "name": "stdout",
     "output_type": "stream",
     "text": [
      "0.9274684916811315\n",
      "0.9823074531371638\n",
      "0.6621159770753586\n",
      "0.9932704394092093\n",
      "0.9848337653997874\n",
      "0.9827771474745182\n",
      "0.8379285637869784\n",
      "0.9870612177227733\n",
      "0.9226851143983081\n",
      "0.981013541882283\n",
      "-0.04482493924862174\n",
      "0.6301817221793595\n",
      "0.9903119507607101\n",
      "0.5415062747285724\n",
      "-0.46862629175251747\n",
      "0.9293414188886833\n",
      "0.9842933760030668\n",
      "0.23588399484538014\n",
      "0.8165900295797033\n",
      "0.9190325640256054\n"
     ]
    }
   ],
   "source": [
    "for i in range(20):\n",
    "    events.GetEntry(i)\n",
    "    print(reader.EvaluateMVA(\"BDT\"))"
   ]
  },
  {
   "cell_type": "code",
   "execution_count": null,
   "metadata": {},
   "outputs": [],
   "source": []
  }
 ],
 "metadata": {
  "kernelspec": {
   "display_name": "Python 3",
   "language": "python",
   "name": "python3"
  },
  "language_info": {
   "codemirror_mode": {
    "name": "ipython",
    "version": 3
   },
   "file_extension": ".py",
   "mimetype": "text/x-python",
   "name": "python",
   "nbconvert_exporter": "python",
   "pygments_lexer": "ipython3",
   "version": "3.7.8"
  }
 },
 "nbformat": 4,
 "nbformat_minor": 4
}
