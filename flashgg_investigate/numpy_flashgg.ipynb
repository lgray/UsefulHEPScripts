{
 "cells": [
  {
   "cell_type": "markdown",
   "metadata": {},
   "source": [
    "# Numpy Structured Arrays 4 Flashgg\n",
    "\n",
    "As a natural consequence of ```study_flip_systematics.ipynb``` (and as an alternative to ```awkward_flashgg.ipynb```), here we focus on data maniuplation with **numpy** (structured arrays), taking care of implementing in a clear and efficient way all the operations that Flashgg is supposed to perform"
   ]
  },
  {
   "cell_type": "code",
   "execution_count": null,
   "metadata": {},
   "outputs": [],
   "source": [
    "import numpy as np\n",
    "import uproot\n",
    "import pickle"
   ]
  },
  {
   "cell_type": "code",
   "execution_count": null,
   "metadata": {},
   "outputs": [],
   "source": [
    "# Open root file and ttree\n",
    "\n",
    "file = uproot.open('test_sys_signal.root')\n",
    "tree = file['Events']\n",
    "tree.show()"
   ]
  },
  {
   "cell_type": "code",
   "execution_count": null,
   "metadata": {},
   "outputs": [],
   "source": [
    "# Useful variables\n",
    "\n",
    "variables_with_sys = ['Muon_pt_1', 'Muon_pt_2', 'Electron_pt_1', 'Electron_pt_2']\n",
    "variables_without_sys = ['PV_x', 'PV_y', 'PV_z']\n",
    "systematics = ['', '_Up', '_Down']\n",
    "\n",
    "variables = variables_with_sys + variables_without_sys"
   ]
  },
  {
   "cell_type": "code",
   "execution_count": null,
   "metadata": {},
   "outputs": [],
   "source": [
    "# Useful functions\n",
    "\n",
    "sys_type = np.dtype([('Nominal', 'float32') if sys == '' else (sys.replace('_', ''), 'float32') for sys in systematics])\n",
    "nom_type = np.dtype([('Nominal', 'float32')])\n",
    "table_type = np.dtype([(var, sys_type) for var in variables_with_sys] + [(var, nom_type) for var in variables_without_sys])\n",
    "\n",
    "def get_branches(file_name, tree_name):\n",
    "    \"\"\" Extract as a record type Awkward array the branches belonging to the tree \"tree_name\" inside \"file_name\".\n",
    "    \"\"\"\n",
    "    file = uproot.open(file_name)\n",
    "    tree = file[tree_name]\n",
    "    branches = tree.arrays(library='ak')\n",
    "    return branches\n",
    "\n",
    "def get_row_of_vars_with_sys(df, variables_with_sys, systematics, evt):\n",
    "    lst = []\n",
    "    for var in variables_with_sys:\n",
    "        elements = []\n",
    "        for name in list(map(lambda suf: var + suf, systematics)):\n",
    "            element = df[name][evt]\n",
    "            elements.append(element)\n",
    "        arr = np.array(tuple(elements), sys_type)\n",
    "        lst.append(arr)\n",
    "    return lst\n",
    "\n",
    "def get_row_of_vars_without_sys(df, variables_without_sys, evt):\n",
    "    lst = []\n",
    "    for var in variables_without_sys:\n",
    "        arr = np.array(tuple([df[var][evt]]), nom_type)\n",
    "        lst.append(arr)\n",
    "    return lst\n",
    "\n",
    "def extract_and_manipulate(file_name, tree_name, variables_with_sys, variables_without_sys, systematics):\n",
    "    input_df = get_branches(file_name, tree_name)\n",
    "    \n",
    "    all_rows_lst = []\n",
    "    for evt in range(len(input_df)):\n",
    "        with_sys_lst = get_row_of_vars_with_sys(input_df, variables_with_sys, systematics, evt)\n",
    "        without_sys_lst = get_row_of_vars_without_sys(input_df, variables_without_sys, evt)\n",
    "        tpl = tuple(with_sys_lst + without_sys_lst)\n",
    "        all_rows_lst.append(tpl)\n",
    "    \n",
    "    output_df = np.array(all_rows_lst, dtype=table_type)\n",
    "    return output_df\n",
    "    \n",
    "\n",
    "\"\"\" One line version\n",
    "\n",
    "final = np.array([tuple([np.array(tuple([branches[name][i] for name in list(map(lambda suf: var + suf, systematics))]), sys_type) for var in nominals_with_sys]\n",
    "                        + [np.array(tuple([branches[var][i]]), nom_type) for var in nominals_without_sys])\n",
    "                  for i in range(len(branches))], dtype=table_type)\n",
    "\"\"\";"
   ]
  },
  {
   "cell_type": "code",
   "execution_count": null,
   "metadata": {},
   "outputs": [],
   "source": [
    "%%time\n",
    "\n",
    "df = extract_and_manipulate('test_sys_signal.root', 'Events', variables_with_sys, variables_without_sys, systematics)"
   ]
  },
  {
   "cell_type": "code",
   "execution_count": null,
   "metadata": {},
   "outputs": [],
   "source": [
    "df"
   ]
  },
  {
   "cell_type": "markdown",
   "metadata": {},
   "source": [
    "## Tagger"
   ]
  },
  {
   "cell_type": "code",
   "execution_count": null,
   "metadata": {},
   "outputs": [],
   "source": [
    "class Tagger:\n",
    "    def __init__(self, clf, variables, systematics, prediction):\n",
    "        self.clf = clf\n",
    "        self.variables = variables\n",
    "        self.systematics = systematics\n",
    "        self.prediction = prediction\n",
    "        \n",
    "    def predict(self, df):\n",
    "        # Make new dtype for final dataframe\n",
    "        new_dtype = np.dtype(df.dtype.descr + [(self.prediction, sys_type)])\n",
    "        \n",
    "        # Create empty dataframe of the new type\n",
    "        final_df = np.empty(df.shape, dtype=new_dtype)\n",
    "        \n",
    "        # Dictionary where keys are systematics and values predicted arrays\n",
    "        predictions = {}\n",
    "        for sys in self.systematics:\n",
    "            predictions[sys] = bdt.predict(np.vstack([df[var][sys] for var in variables_with_sys]).T)\n",
    "        l = len(predictions[self.systematics[0]])\n",
    "        \n",
    "        # New column\n",
    "        new_col = np.array([tuple([predictions[sys][ev] for sys in self.systematics]) \n",
    "                            for ev in range(l)], dtype=sys_type)\n",
    "        \n",
    "        # Fill the two parts: the one we already had and the empty Predicted produced above\n",
    "        for var in variables_with_sys + variables_without_sys:\n",
    "            final_df[var] = df[var]\n",
    "        final_df[self.prediction] = new_col\n",
    "        \n",
    "        return final_df"
   ]
  },
  {
   "cell_type": "code",
   "execution_count": null,
   "metadata": {},
   "outputs": [],
   "source": [
    "bdt = pickle.load(open('classifier.pkl', 'rb'))"
   ]
  },
  {
   "cell_type": "code",
   "execution_count": null,
   "metadata": {},
   "outputs": [],
   "source": [
    "tagger = Tagger(bdt, variables_with_sys, ['Nominal', 'Up', 'Down'], 'Y')"
   ]
  },
  {
   "cell_type": "code",
   "execution_count": null,
   "metadata": {},
   "outputs": [],
   "source": [
    "%%time\n",
    "\n",
    "df_pred = tagger.predict(df)"
   ]
  },
  {
   "cell_type": "code",
   "execution_count": null,
   "metadata": {},
   "outputs": [],
   "source": [
    "df_pred"
   ]
  },
  {
   "cell_type": "markdown",
   "metadata": {},
   "source": [
    "## Selections"
   ]
  },
  {
   "cell_type": "code",
   "execution_count": null,
   "metadata": {},
   "outputs": [],
   "source": [
    "sel_one = df_pred[df_pred['Muon_pt_1']['Nominal'] > 25]"
   ]
  },
  {
   "cell_type": "code",
   "execution_count": null,
   "metadata": {},
   "outputs": [],
   "source": [
    "sel_one"
   ]
  },
  {
   "cell_type": "code",
   "execution_count": null,
   "metadata": {},
   "outputs": [],
   "source": []
  }
 ],
 "metadata": {
  "kernelspec": {
   "display_name": "Python 3",
   "language": "python",
   "name": "python3"
  },
  "language_info": {
   "codemirror_mode": {
    "name": "ipython",
    "version": 3
   },
   "file_extension": ".py",
   "mimetype": "text/x-python",
   "name": "python",
   "nbconvert_exporter": "python",
   "pygments_lexer": "ipython3",
   "version": "3.7.7"
  }
 },
 "nbformat": 4,
 "nbformat_minor": 4
}
