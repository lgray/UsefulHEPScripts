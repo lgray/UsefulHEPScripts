{
 "cells": [
  {
   "cell_type": "code",
   "execution_count": null,
   "metadata": {},
   "outputs": [],
   "source": [
    "import uproot\n",
    "import coffea.hist as hist\n",
    "import matplotlib.pyplot as plt\n",
    "import numpy as np\n",
    "import mplhep as hep\n",
    "\n",
    "hep.set_style(\"CMS\")"
   ]
  },
  {
   "cell_type": "code",
   "execution_count": null,
   "metadata": {},
   "outputs": [],
   "source": [
    "v0_file = \"/work/gallim/root_files/vertex_investigation/0th_vertex/output_GluGluHToGG_M125_TuneCP5_13TeV-amcatnloFXFX-pythia8_storeWeights_alesauva-UL2018_0-10_6_4-v0-RunIISummer19UL18MiniAOD-106X_upgrade2018_realistic_v11_L1v1-v1-3f96409841a3cc85b911eb441562baae_USER_*.root\"\n",
    "v_custom_file = \"/work/gallim/root_files/vertex_investigation/our_vertex/output_GluGluHToGG_M125_TuneCP5_13TeV-amcatnloFXFX-pythia8_storeWeights_alesauva-UL2018_0-10_6_4-v0-RunIISummer19UL18MiniAOD-106X_upgrade2018_realistic_v11_L1v1-v1-3f96409841a3cc85b911eb441562baae_USER_*.root\"\n",
    "\n",
    "tree_name = \"diphotonDumper/trees/ggH_125_13TeV_All_$SYST\"\n",
    "\n",
    "#variables = ['candidate_id', 'weight', 'mass', 'pt', 'eta', 'leadPt', 'subleadPt', 'rho', 'nvtx', 'event', 'lumi', 'processIndex', 'run', 'npu', 'puweight']\n",
    "#variables = ['mass', 'pt']\n",
    "specs = {\n",
    "    'mass': {\n",
    "        'bins': 80,\n",
    "        'range': [100, 140]\n",
    "    },\n",
    "    'pt': {\n",
    "        'bins': 80,\n",
    "        'range': [0, 300]\n",
    "    },\n",
    "    'eta': {\n",
    "        'bins': 80,\n",
    "        'range': [-5, 5]\n",
    "    },\n",
    "    'leadPt': {\n",
    "        'bins': 80,\n",
    "        'range': [0, 300]\n",
    "    },\n",
    "    'subleadPt': {\n",
    "        'bins': 80,\n",
    "        'range': [0, 200]  \n",
    "    },\n",
    "    'rho': {\n",
    "        'bins': 80,\n",
    "        'range': [0, 50]\n",
    "    }\n",
    "}\n",
    "variables = list(specs.keys())"
   ]
  },
  {
   "cell_type": "code",
   "execution_count": null,
   "metadata": {},
   "outputs": [],
   "source": [
    "# Quickly plot one of the two samples to get optimal ranges\n",
    "\n",
    "f = uproot.open(\"/work/gallim/root_files/vertex_investigation/our_vertex/output_GluGluHToGG_M125_TuneCP5_13TeV-amcatnloFXFX-pythia8_storeWeights_alesauva-UL2018_0-10_6_4-v0-RunIISummer19UL18MiniAOD-106X_upgrade2018_realistic_v11_L1v1-v1-3f96409841a3cc85b911eb441562baae_USER_9.root\")\n",
    "t = f[\"diphotonDumper/trees/ggH_125_13TeV_All_$SYST\"]\n",
    "evts = t.arrays(variables)\n",
    "\n",
    "for var in variables:\n",
    "    fig, ax = plt.subplots()\n",
    "    plt.hist(evts[var].to_numpy())\n",
    "    ax.set_xlabel(var)\n",
    "    plt.show()"
   ]
  },
  {
   "cell_type": "code",
   "execution_count": null,
   "metadata": {},
   "outputs": [],
   "source": [
    "histo = hist.Hist(\"Counts\",\n",
    "                  hist.Cat(\"vertex\", \"Vertex\"),\n",
    "                  *[hist.Bin(sp, \"${}$\".format(sp), specs[sp][\"bins\"], *specs[sp][\"range\"]) for sp in specs]\n",
    "                 )"
   ]
  },
  {
   "cell_type": "code",
   "execution_count": null,
   "metadata": {},
   "outputs": [],
   "source": [
    "%%time\n",
    "\n",
    "for batch in uproot.iterate([\"{}:{}\".format(v_custom_file, tree_name)], expressions=variables + [\"weight\"], library=\"np\"):\n",
    "    histo.fill(vertex=\"Vertex Reco\", **batch)\n",
    "    \n",
    "for batch in uproot.iterate([\"{}:{}\".format(v0_file, tree_name)], expressions=variables + [\"weight\"], library=\"np\"):\n",
    "    histo.fill(vertex=\"Vertex 0th\", **batch)"
   ]
  },
  {
   "cell_type": "code",
   "execution_count": null,
   "metadata": {},
   "outputs": [],
   "source": [
    "for var in variables:\n",
    "    varss = variables.copy()\n",
    "    varss.remove(var)\n",
    "    fig, ax = plt.subplots()\n",
    "    hist.plot1d(histo.sum(*varss))\n",
    "    plt.show();"
   ]
  }
 ],
 "metadata": {
  "kernelspec": {
   "display_name": "Python 3",
   "language": "python",
   "name": "python3"
  },
  "language_info": {
   "codemirror_mode": {
    "name": "ipython",
    "version": 3
   },
   "file_extension": ".py",
   "mimetype": "text/x-python",
   "name": "python",
   "nbconvert_exporter": "python",
   "pygments_lexer": "ipython3",
   "version": "3.7.8"
  }
 },
 "nbformat": 4,
 "nbformat_minor": 4
}
