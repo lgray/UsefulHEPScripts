{
 "cells": [
  {
   "cell_type": "code",
   "execution_count": 1,
   "metadata": {},
   "outputs": [
    {
     "name": "stdout",
     "output_type": "stream",
     "text": [
      "Welcome to JupyROOT 6.22/02\n"
     ]
    }
   ],
   "source": [
    "import ROOT\n",
    "import os"
   ]
  },
  {
   "cell_type": "code",
   "execution_count": 2,
   "metadata": {},
   "outputs": [],
   "source": [
    "v0_dir = \"/work/gallim/root_files/vertex_investigation/VertexInvestigation_vtx0\"\n",
    "v0_tmpl = \"/work/gallim/root_files/vertex_investigation/VertexInvestigation_vtx0/output_GluGluHToGG_M125_TuneCP5_13TeV-amcatnloFXFX-pythia8_storeWeights_alesauva-UL2018_0-10_6_4-v0-RunIISummer19UL18MiniAOD-106X_upgrade2018_realistic_v11_L1v1-v1-3f96409841a3cc85b911eb441562baae_USER_{}.root\"\n",
    "tree_name = \"diphotonDumper/trees/ggH_125_13TeV_All_$SYST\""
   ]
  },
  {
   "cell_type": "code",
   "execution_count": 3,
   "metadata": {},
   "outputs": [],
   "source": [
    "chain = ROOT.TChain()"
   ]
  },
  {
   "cell_type": "code",
   "execution_count": 4,
   "metadata": {},
   "outputs": [],
   "source": [
    "for fl in os.listdir(v0_dir):\n",
    "    chain.Add(\"{}/{}/{}\".format(v0_dir, fl, tree_name))"
   ]
  },
  {
   "cell_type": "code",
   "execution_count": 5,
   "metadata": {},
   "outputs": [],
   "source": [
    "rdf = ROOT.RDataFrame(chain)"
   ]
  },
  {
   "cell_type": "code",
   "execution_count": 6,
   "metadata": {},
   "outputs": [],
   "source": [
    "cut = \"max(abs(lead_eta), abs(sublead_eta)) < 1.5\"\n",
    "\n",
    "rdf_cut = rdf.Filter(cut)"
   ]
  },
  {
   "cell_type": "code",
   "execution_count": 7,
   "metadata": {},
   "outputs": [],
   "source": [
    "mass_arr = rdf_cut.Take[float]('mass').GetValue()"
   ]
  },
  {
   "cell_type": "code",
   "execution_count": 8,
   "metadata": {},
   "outputs": [
    {
     "data": {
      "text/plain": [
       "633111"
      ]
     },
     "execution_count": 8,
     "metadata": {},
     "output_type": "execute_result"
    }
   ],
   "source": [
    "len(mass_arr)"
   ]
  },
  {
   "cell_type": "code",
   "execution_count": 9,
   "metadata": {},
   "outputs": [],
   "source": [
    "from array import array\n",
    "mass_empt = array('d', [ 0. ])\n",
    "cut_tree = ROOT.TTree(\"cut_tree\", \"cut_tree\")\n",
    "cut_tree.Branch(\"mass\", mass_empt, \"mass/D\")\n",
    "for ev in mass_arr:\n",
    "    mass_empt[0] = ev\n",
    "    cut_tree.Fill()"
   ]
  },
  {
   "cell_type": "code",
   "execution_count": 10,
   "metadata": {},
   "outputs": [
    {
     "name": "stdout",
     "output_type": "stream",
     "text": [
      "\n",
      "\u001b[1mRooFit v3.60 -- Developed by Wouter Verkerke and David Kirkby\u001b[0m \n",
      "                Copyright (C) 2000-2013 NIKHEF, University of California & Stanford University\n",
      "                All rights reserved, please read http://roofit.sourceforge.net/license.txt\n",
      "\n"
     ]
    }
   ],
   "source": [
    "mass = ROOT.RooRealVar(\"mass\", \"Invariant mass\", 125, 115, 135)\n",
    "mu1 = ROOT.RooRealVar(\"mu1\", \"mu1\", 125, 120, 135)\n",
    "sigma1 = ROOT.RooRealVar(\"sigma1\", \"sigma1\", 1, 0.1, 10)\n",
    "mu2 = ROOT.RooRealVar(\"mu2\", \"mu2\", 125, 100, 140)\n",
    "sigma2 = ROOT.RooRealVar(\"sigma2\", \"sigma2\", 4, 0.1, 10)\n",
    "alpha = ROOT.RooRealVar(\"alpha\", \"alpha\", 1, 0, 20)\n",
    "n = ROOT.RooRealVar(\"n\", \"n\", 1, 0, 5)\n",
    "\n",
    "frac = ROOT.RooRealVar(\"frac\", \"frac\", 0.5, 0., 1.)\n",
    "\n",
    "gauss1 = ROOT.RooGaussian(\"gauss1\", \"gauss1\", mass, mu1, sigma1)\n",
    "cb = ROOT.RooCBShape(\"cb\", \"cb\", mass, mu2, sigma2, alpha, n)\n",
    "\n",
    "model = ROOT.RooAddPdf(\"model\", \"model\", ROOT.RooArgList(gauss1, cb), ROOT.RooArgList(frac))"
   ]
  },
  {
   "cell_type": "code",
   "execution_count": 11,
   "metadata": {},
   "outputs": [
    {
     "name": "stdout",
     "output_type": "stream",
     "text": [
      "[#1] INFO:DataHandling -- RooAbsReal::attachToTree(mass) TTree Float_t branch mass will be converted to double precision.\n",
      "[#1] INFO:DataHandling -- RooTreeDataStore::loadValues(data) Skipping event #34 because mass cannot accommodate the value 114.08\n",
      "[#1] INFO:DataHandling -- RooTreeDataStore::loadValues(data) Skipping event #69 because mass cannot accommodate the value 90.1501\n",
      "[#1] INFO:DataHandling -- RooTreeDataStore::loadValues(data) Skipping event #105 because mass cannot accommodate the value 56.4725\n",
      "[#1] INFO:DataHandling -- RooTreeDataStore::loadValues(data) Skipping event #129 because mass cannot accommodate the value 621.866\n",
      "[#1] INFO:DataHandling -- RooTreeDataStore::loadValues(data) Skipping ...\n",
      "[#0] WARNING:DataHandling -- RooTreeDataStore::loadValues(data) Ignored 17522 out-of-range events\n",
      "[#1] INFO:DataHandling -- RooTreeDataStore::loadValues(data_ebeb) Skipping event #23 because mass cannot accommodate the value 114.08\n",
      "[#1] INFO:DataHandling -- RooTreeDataStore::loadValues(data_ebeb) Skipping event #47 because mass cannot accommodate the value 90.1501\n",
      "[#1] INFO:DataHandling -- RooTreeDataStore::loadValues(data_ebeb) Skipping event #80 because mass cannot accommodate the value 621.866\n",
      "[#1] INFO:DataHandling -- RooTreeDataStore::loadValues(data_ebeb) Skipping event #164 because mass cannot accommodate the value 106.089\n",
      "[#1] INFO:DataHandling -- RooTreeDataStore::loadValues(data_ebeb) Skipping ...\n",
      "[#0] WARNING:DataHandling -- RooTreeDataStore::loadValues(data_ebeb) Ignored 11399 out-of-range events\n"
     ]
    }
   ],
   "source": [
    "# Get values\n",
    "#lead_eta = ROOT.RooRealVar(\"lead_eta\", \"lead_eta\", 0, -3, 3)\n",
    "#sublead_eta = ROOT.RooRealVar(\"sublead_eta\", \"sublead_eta\", 0, -3, 3)\n",
    "\n",
    "#cut = ROOT.RooFormulaVar(\"EBEB\", \"max(abs(x[0]), abs(x[0])) < 1.5\", ROOT.RooArgList(lead_eta, sublead_eta)) #cut for EBEB category\n",
    "\n",
    "data = ROOT.RooDataSet(\"data\", \"data\", chain, ROOT.RooArgSet(mass))\n",
    "data_ebeb = ROOT.RooDataSet(\"data_ebeb\", \"data_ebeb\", cut_tree, ROOT.RooArgSet(mass))"
   ]
  },
  {
   "cell_type": "code",
   "execution_count": 13,
   "metadata": {},
   "outputs": [
    {
     "name": "stdout",
     "output_type": "stream",
     "text": [
      "CPU times: user 1min 16s, sys: 6.65 s, total: 1min 23s\n",
      "Wall time: 1min 14s\n",
      "[#1] INFO:Eval -- RooRealVar::setRange(mass) new range named 'higgs' created with bounds [120,130]\n",
      "[#1] INFO:Fitting -- RooAbsOptTestStatistic::ctor(nll_model_data) constructing test statistic for sub-range named higgs\n",
      "[#1] INFO:Eval -- RooRealVar::setRange(mass) new range named 'NormalizationRangeForhiggs' created with bounds [115,135]\n",
      "[#1] INFO:Eval -- RooRealVar::setRange(mass) new range named 'fit_nll_model_data' created with bounds [120,130]\n",
      "[#1] INFO:Fitting -- RooAbsOptTestStatistic::ctor(nll_model_data) fixing interpretation of coefficients of any RooAddPdf to full domain of observables \n",
      "[#1] INFO:Minization -- RooMinimizer::optimizeConst: activating const optimization\n",
      "[#1] INFO:Minization --  The following expressions will be evaluated in cache-and-track mode: (gauss1,cb)\n",
      " **********\n",
      " **    1 **SET PRINT           1\n",
      " **********\n",
      " **********\n",
      " **    2 **SET NOGRAD\n",
      " **********\n",
      " PARAMETER DEFINITIONS:\n",
      "    NO.   NAME         VALUE      STEP SIZE      LIMITS\n",
      "     1 alpha        1.00000e+00  5.00000e-01    0.00000e+00  2.00000e+01\n",
      "     2 frac         5.00000e-01  1.00000e-01    0.00000e+00  1.00000e+00\n",
      "     3 mu1          1.25000e+02  1.50000e+00    1.20000e+02  1.35000e+02\n",
      "     4 mu2          1.25000e+02  4.00000e+00    1.00000e+02  1.40000e+02\n",
      "     5 n            1.00000e+00  5.00000e-01    0.00000e+00  5.00000e+00\n",
      "     6 sigma1       1.00000e+00  4.50000e-01    1.00000e-01  1.00000e+01\n",
      "     7 sigma2       4.00000e+00  9.90000e-01    1.00000e-01  1.00000e+01\n",
      " **********\n",
      " **    3 **SET ERR         0.5\n",
      " **********\n",
      " **********\n",
      " **    4 **SET PRINT           1\n",
      " **********\n",
      " **********\n",
      " **    5 **SET STR           1\n",
      " **********\n",
      " NOW USING STRATEGY  1: TRY TO BALANCE SPEED AGAINST RELIABILITY\n",
      " **********\n",
      " **    6 **MIGRAD        3500           1\n",
      " **********\n",
      " FIRST CALL TO USER FUNCTION AT NEW START POINT, WITH IFLAG=4.\n",
      " START MIGRAD MINIMIZATION.  STRATEGY  1.  CONVERGENCE WHEN EDM .LT. 1.00e-03\n",
      " FCN=1.7994e+06 FROM MIGRAD    STATUS=INITIATE       85 CALLS          86 TOTAL\n",
      "                     EDM= unknown      STRATEGY= 1      NO ERROR MATRIX       \n",
      "  EXT PARAMETER               CURRENT GUESS       STEP         FIRST   \n",
      "  NO.   NAME      VALUE            ERROR          SIZE      DERIVATIVE \n",
      "   1  alpha        1.00000e+00   5.00000e-01   0.00000e+00   2.60243e+04\n",
      "   2  frac         5.00000e-01   1.00000e-01   0.00000e+00   3.23200e+04\n",
      "   3  mu1          1.25000e+02   1.50000e+00   0.00000e+00   4.40963e+05\n",
      "   4  mu2          1.25000e+02   4.00000e+00   0.00000e+00   2.81791e+05\n",
      "   5  n            7.29496e-02   5.00000e-01   0.00000e+00  -4.41433e+03\n",
      "   6  sigma1       1.00000e+00   4.50000e-01   0.00000e+00  -1.25493e+05\n",
      "   7  sigma2       2.34049e+00   9.90000e-01  -3.65479e-01  -1.33893e+03\n",
      "                               ERR DEF= 0.5\n",
      " MIGRAD FAILS TO FIND IMPROVEMENT\n",
      " MIGRAD MINIMIZATION HAS CONVERGED.\n",
      " FCN=1.78398e+06 FROM MIGRAD    STATUS=CONVERGED     334 CALLS         335 TOTAL\n",
      "                     EDM=0.000135545    STRATEGY= 1  ERROR MATRIX UNCERTAINTY   1.9 per cent\n",
      "  EXT PARAMETER                                   STEP         FIRST   \n",
      "  NO.   NAME      VALUE            ERROR          SIZE      DERIVATIVE \n",
      "   1  alpha        2.17954e+00   4.10673e-02   0.00000e+00  -5.58458e+00\n",
      "   2  frac         4.04839e-01   2.83480e-03  -0.00000e+00  -2.35302e+00\n",
      "   3  mu1          1.24911e+02   2.76374e-03   0.00000e+00  -3.35387e+00\n",
      "   4  mu2          1.24373e+02   5.33857e-03  -0.00000e+00  -1.72316e+01\n",
      "   5  n            2.03830e+00   3.00118e-02   0.00000e+00  -6.41253e-01\n",
      "   6  sigma1       8.93876e-01   4.09263e-03   0.00000e+00  -1.18705e+01\n",
      "   7  sigma2       2.34387e+00   7.69859e-03  -0.00000e+00  -3.19174e+00\n",
      "                               ERR DEF= 0.5\n",
      " EXTERNAL ERROR MATRIX.    NDIM=  25    NPAR=  7    ERR DEF=0.5\n",
      "  1.687e-03 -9.780e-05  6.038e-05  9.525e-05  1.701e-04 -1.322e-04 -2.321e-04 \n",
      " -9.780e-05  8.036e-06 -2.814e-06 -9.670e-06 -1.651e-05  1.010e-05  1.910e-05 \n",
      "  6.038e-05 -2.814e-06  7.638e-06 -2.638e-07  1.521e-05 -3.994e-06 -7.802e-06 \n",
      "  9.525e-05 -9.670e-06 -2.638e-07  2.850e-05 -1.166e-06 -1.200e-05 -2.594e-05 \n",
      "  1.701e-04 -1.651e-05  1.521e-05 -1.166e-06  9.008e-04 -2.976e-05 -4.888e-05 \n",
      " -1.322e-04  1.010e-05 -3.994e-06 -1.200e-05 -2.976e-05  1.675e-05  2.351e-05 \n",
      " -2.321e-04  1.910e-05 -7.802e-06 -2.594e-05 -4.888e-05  2.351e-05  5.927e-05 \n",
      " PARAMETER  CORRELATION COEFFICIENTS  \n",
      "       NO.  GLOBAL      1      2      3      4      5      6      7\n",
      "        1  0.88527   1.000 -0.840  0.532  0.434  0.138 -0.786 -0.734\n",
      "        2  0.94917  -0.840  1.000 -0.359 -0.639 -0.194  0.871  0.875\n",
      "        3  0.62442   0.532 -0.359  1.000 -0.018  0.183 -0.353 -0.367\n",
      "        4  0.73075   0.434 -0.639 -0.018  1.000 -0.007 -0.549 -0.631\n",
      "        5  0.36104   0.138 -0.194  0.183 -0.007  1.000 -0.242 -0.212\n",
      "        6  0.88191  -0.786  0.871 -0.353 -0.549 -0.242  1.000  0.746\n",
      "        7  0.88789  -0.734  0.875 -0.367 -0.631 -0.212  0.746  1.000\n",
      " **********\n",
      " **    7 **SET ERR         0.5\n",
      " **********\n",
      " **********\n",
      " **    8 **SET PRINT           1\n",
      " **********\n",
      " **********\n",
      " **    9 **HESSE        3500\n",
      " **********\n",
      " COVARIANCE MATRIX CALCULATED SUCCESSFULLY\n",
      " FCN=1.78398e+06 FROM HESSE     STATUS=OK             62 CALLS         397 TOTAL\n",
      "                     EDM=0.000912829    STRATEGY= 1      ERROR MATRIX ACCURATE \n",
      "  EXT PARAMETER                                INTERNAL      INTERNAL  \n",
      "  NO.   NAME      VALUE            ERROR       STEP SIZE       VALUE   \n",
      "   1  alpha        2.17954e+00   3.41580e-01   2.74646e-02  -8.97942e-01\n",
      "   2  frac         4.04839e-01   3.60391e-03   1.99211e-03  -1.91490e-01\n",
      "   3  mu1          1.24911e+02   2.70602e-03   3.08606e-04  -3.52402e-01\n",
      "   4  mu2          1.24373e+02   5.34015e-03   1.76843e-04   2.20411e-01\n",
      "   5  n            2.03830e+00   1.57540e+00   5.00000e-01  -1.85746e-01\n",
      "   6  sigma1       8.93876e-01   4.11861e-03   6.90375e-04  -9.96585e-01\n",
      "   7  sigma2       2.34387e+00   7.53443e-03   8.03506e-04  -5.78410e-01\n",
      "                               ERR DEF= 0.5\n",
      " EXTERNAL ERROR MATRIX.    NDIM=  25    NPAR=  7    ERR DEF=0.5\n",
      "  1.168e-01  6.520e-04 -6.842e-06 -2.331e-05  2.620e-01  2.667e-05  4.796e-05 \n",
      "  6.520e-04  1.299e-05 -2.648e-06 -1.027e-05  2.432e-03  1.089e-05  1.981e-05 \n",
      " -6.842e-06 -2.648e-06  7.323e-06 -7.385e-07 -2.706e-05 -3.403e-06 -6.609e-06 \n",
      " -2.331e-05 -1.027e-05 -7.385e-07  2.852e-05 -9.360e-05 -1.208e-05 -2.526e-05 \n",
      "  2.620e-01  2.432e-03 -2.706e-05 -9.360e-05  2.925e+00  1.048e-04  1.936e-04 \n",
      "  2.667e-05  1.089e-05 -3.403e-06 -1.208e-05  1.048e-04  1.696e-05  2.275e-05 \n",
      "  4.796e-05  1.981e-05 -6.609e-06 -2.526e-05  1.936e-04  2.275e-05  5.677e-05 \n",
      " PARAMETER  CORRELATION COEFFICIENTS  \n",
      "       NO.  GLOBAL      1      2      3      4      5      6      7\n",
      "        1  0.83880   1.000  0.529 -0.007 -0.013  0.448  0.019  0.019\n",
      "        2  0.95575   0.529  1.000 -0.271 -0.533  0.395  0.734  0.730\n",
      "        3  0.49236  -0.007 -0.271  1.000 -0.051 -0.006 -0.305 -0.324\n",
      "        4  0.71343  -0.013 -0.533 -0.051  1.000 -0.010 -0.549 -0.628\n",
      "        5  0.63314   0.448  0.395 -0.006 -0.010  1.000  0.015  0.015\n",
      "        6  0.87247   0.019  0.734 -0.305 -0.549  0.015  1.000  0.733\n",
      "        7  0.87767   0.019  0.730 -0.324 -0.628  0.015  0.733  1.000\n",
      "[#1] INFO:Minization -- RooMinimizer::optimizeConst: deactivating const optimization\n"
     ]
    }
   ],
   "source": [
    "%%time\n",
    "\n",
    "# Fit in subrange\n",
    "mass.setRange(\"higgs\", 120, 130)\n",
    "fit_result = model.fitTo(data, ROOT.RooFit.Range(\"higgs\"), ROOT.RooFit.Save(1))"
   ]
  },
  {
   "cell_type": "code",
   "execution_count": 131,
   "metadata": {},
   "outputs": [
    {
     "data": {
      "text/plain": [
       "<cppyy.gbl.RooPlot object at 0x55f9600f3690>"
      ]
     },
     "execution_count": 131,
     "metadata": {},
     "output_type": "execute_result"
    },
    {
     "name": "stdout",
     "output_type": "stream",
     "text": [
      "[#1] INFO:Plotting -- RooAbsPdf::plotOn(model) p.d.f was fitted in a subrange and no explicit Range() and NormRange() was specified. Plotting / normalising in fit range. To override, do one of the following\n",
      "\t- Clear the automatic fit range attribute: <pdf>.setStringAttribute(\"fitrange\", nullptr);\n",
      "\t- Explicitly specify the plotting range: Range(\"<rangeName>\").\n",
      "\t- Explicitly specify where to compute the normalisation: NormRange(\"<rangeName>\").\n",
      "\tThe default (full) range can be denoted with Range(\"\") / NormRange(\"\").\n",
      "[#1] INFO:Plotting -- RooAbsPdf::plotOn(model) only plotting range 'fit_nll_model_data'\n",
      "[#1] INFO:Plotting -- RooAbsPdf::plotOn(model) p.d.f. curve is normalized using explicit choice of ranges 'fit_nll_model_data'\n",
      "[#1] INFO:Plotting -- RooAbsPdf::plotOn(model) p.d.f was fitted in a subrange and no explicit Range() and NormRange() was specified. Plotting / normalising in fit range. To override, do one of the following\n",
      "\t- Clear the automatic fit range attribute: <pdf>.setStringAttribute(\"fitrange\", nullptr);\n",
      "\t- Explicitly specify the plotting range: Range(\"<rangeName>\").\n",
      "\t- Explicitly specify where to compute the normalisation: NormRange(\"<rangeName>\").\n",
      "\tThe default (full) range can be denoted with Range(\"\") / NormRange(\"\").\n",
      "[#1] INFO:Plotting -- RooAbsPdf::plotOn(model) only plotting range 'fit_nll_model_data'\n",
      "[#1] INFO:Plotting -- RooAbsPdf::plotOn(model) p.d.f. curve is normalized using explicit choice of ranges 'fit_nll_model_data'\n",
      "[#1] INFO:Plotting -- RooAbsPdf::plotOn(model) directly selected PDF components: (cb)\n",
      "[#1] INFO:Plotting -- RooAbsPdf::plotOn(model) indirectly selected PDF components: ()\n",
      "[#1] INFO:Plotting -- RooAbsPdf::plotOn(model) p.d.f was fitted in a subrange and no explicit Range() and NormRange() was specified. Plotting / normalising in fit range. To override, do one of the following\n",
      "\t- Clear the automatic fit range attribute: <pdf>.setStringAttribute(\"fitrange\", nullptr);\n",
      "\t- Explicitly specify the plotting range: Range(\"<rangeName>\").\n",
      "\t- Explicitly specify where to compute the normalisation: NormRange(\"<rangeName>\").\n",
      "\tThe default (full) range can be denoted with Range(\"\") / NormRange(\"\").\n",
      "[#1] INFO:Plotting -- RooAbsPdf::plotOn(model) only plotting range 'fit_nll_model_data'\n",
      "[#1] INFO:Plotting -- RooAbsPdf::plotOn(model) p.d.f. curve is normalized using explicit choice of ranges 'fit_nll_model_data'\n",
      "[#1] INFO:Plotting -- RooAbsPdf::plotOn(model) directly selected PDF components: (gauss1)\n",
      "[#1] INFO:Plotting -- RooAbsPdf::plotOn(model) indirectly selected PDF components: ()\n"
     ]
    }
   ],
   "source": [
    "# Plot Decoration\n",
    "mass_frame = mass.frame(ROOT.RooFit.Title(\"Mass\"))\n",
    "mass_frame.GetYaxis().SetTitleOffset(1.6)\n",
    "data.plotOn(mass_frame)\n",
    "#cb.plotOn(mass_frame, ROOT.RooFit.LineColor(ROOT.kOrange))\n",
    "#gauss1.plotOn(mass_frame, ROOT.RooFit.LineColor(ROOT.kPink))\n",
    "model.plotOn(mass_frame, ROOT.RooFit.LineColor(ROOT.kRed))\n",
    "model.plotOn(mass_frame, ROOT.RooFit.Components(\"cb\"), ROOT.RooFit.LineColor(ROOT.kPink))\n",
    "model.plotOn(mass_frame, ROOT.RooFit.Components(\"gauss1\"), ROOT.RooFit.LineColor(ROOT.kCyan))\n",
    "chi_sq = mass_frame.chiSquare() / model.getParameters(data).getSize()\n",
    "model.paramOn(mass_frame, ROOT.RooFit.Layout(0.65), ROOT.RooFit.Label(\"chiSq / ndof = {:.5f}\".format(chi_sq)))\n",
    "data.statOn(mass_frame, ROOT.RooFit.Layout(0.46, 0.12, 0.95))"
   ]
  },
  {
   "cell_type": "code",
   "execution_count": 132,
   "metadata": {},
   "outputs": [
    {
     "data": {
      "image/png": "[encoded data removed]",
      "text/plain": [
       "<IPython.core.display.Image object>"
      ]
     },
     "metadata": {},
     "output_type": "display_data"
    }
   ],
   "source": [
    "c = ROOT.TCanvas(\"\", \"\")\n",
    "mass_frame.Draw()\n",
    "c.Draw()\n",
    "#c.SaveAs(\"/eos/home-g/gallim/www/plots/Hgg/VertexInvestigation/no_cat_roofit.png\")\n",
    "#c.SaveAs(\"/eos/home-g/gallim/www/plots/Hgg/VertexInvestigation/no_cat_roofit.pdf\")"
   ]
  },
  {
   "cell_type": "code",
   "execution_count": 94,
   "metadata": {},
   "outputs": [],
   "source": [
    "pars = model.getParameters(data)"
   ]
  },
  {
   "cell_type": "code",
   "execution_count": 97,
   "metadata": {},
   "outputs": [],
   "source": [
    "pars = list(pars)"
   ]
  },
  {
   "cell_type": "code",
   "execution_count": 102,
   "metadata": {},
   "outputs": [
    {
     "data": {
      "text/plain": [
       "2.1792893131811564"
      ]
     },
     "execution_count": 102,
     "metadata": {},
     "output_type": "execute_result"
    }
   ],
   "source": [
    "pars[0].getVal()"
   ]
  },
  {
   "cell_type": "code",
   "execution_count": 107,
   "metadata": {},
   "outputs": [
    {
     "data": {
      "text/plain": [
       "0.017507834170554203"
      ]
     },
     "execution_count": 107,
     "metadata": {},
     "output_type": "execute_result"
    }
   ],
   "source": [
    "data.sigma(mass) / data.mean(mass)"
   ]
  },
  {
   "cell_type": "code",
   "execution_count": 105,
   "metadata": {},
   "outputs": [
    {
     "data": {
      "text/plain": [
       "2.1792728029205612"
      ]
     },
     "execution_count": 105,
     "metadata": {},
     "output_type": "execute_result"
    }
   ],
   "source": [
    "data.sigma(mass)"
   ]
  },
  {
   "cell_type": "code",
   "execution_count": 108,
   "metadata": {},
   "outputs": [
    {
     "data": {
      "text/plain": [
       "[<cppyy.gbl.RooRealVar object at 0x55f95e00ad80>,\n",
       " <cppyy.gbl.RooRealVar object at 0x55f95e035a60>,\n",
       " <cppyy.gbl.RooRealVar object at 0x55f95e031760>,\n",
       " <cppyy.gbl.RooRealVar object at 0x55f95e0b7ab0>,\n",
       " <cppyy.gbl.RooRealVar object at 0x55f95e03e260>,\n",
       " <cppyy.gbl.RooRealVar object at 0x55f95e09e130>,\n",
       " <cppyy.gbl.RooRealVar object at 0x55f95e0252a0>]"
      ]
     },
     "execution_count": 108,
     "metadata": {},
     "output_type": "execute_result"
    }
   ],
   "source": [
    "pars"
   ]
  },
  {
   "cell_type": "code",
   "execution_count": 112,
   "metadata": {},
   "outputs": [],
   "source": [
    "parameters = {v.GetName(): v.getVal() for v in pars}"
   ]
  },
  {
   "cell_type": "code",
   "execution_count": 113,
   "metadata": {},
   "outputs": [
    {
     "data": {
      "text/plain": [
       "{'alpha': 2.1792893131811564,\n",
       " 'frac': 0.4049250985159446,\n",
       " 'mu1': 124.91132735734017,\n",
       " 'mu2': 124.3725309995852,\n",
       " 'n': 2.0362863306452943,\n",
       " 'sigma1': 0.8939994029450327,\n",
       " 'sigma2': 2.344061335765624}"
      ]
     },
     "execution_count": 113,
     "metadata": {},
     "output_type": "execute_result"
    }
   ],
   "source": [
    "parameters"
   ]
  },
  {
   "cell_type": "code",
   "execution_count": 121,
   "metadata": {},
   "outputs": [
    {
     "data": {
      "text/plain": [
       "<cppyy.gbl.RooCmdArg object at 0x55f95e451e80>"
      ]
     },
     "execution_count": 121,
     "metadata": {},
     "output_type": "execute_result"
    }
   ],
   "source": [
    "ROOT.RooFit.Components(cb)"
   ]
  },
  {
   "cell_type": "code",
   "execution_count": 126,
   "metadata": {},
   "outputs": [
    {
     "data": {
      "text/plain": [
       "0.964806699831464"
      ]
     },
     "execution_count": 126,
     "metadata": {},
     "output_type": "execute_result"
    }
   ],
   "source": [
    "cb.getVal()"
   ]
  },
  {
   "cell_type": "code",
   "execution_count": 12,
   "metadata": {},
   "outputs": [
    {
     "data": {
      "text/plain": [
       "<cppyy.CPPOverload at 0x7f1596d05910>"
      ]
     },
     "execution_count": 12,
     "metadata": {},
     "output_type": "execute_result"
    }
   ],
   "source": [
    "ROOT.RooFit.Save"
   ]
  },
  {
   "cell_type": "code",
   "execution_count": 16,
   "metadata": {},
   "outputs": [],
   "source": [
    "cov_mat = fit_result.covarianceMatrix()"
   ]
  },
  {
   "cell_type": "code",
   "execution_count": 30,
   "metadata": {},
   "outputs": [
    {
     "name": "stdout",
     "output_type": "stream",
     "text": [
      "\n",
      "7x7 matrix is as follows\n",
      "\n",
      "     |      0    |      1    |      2    |      3    |      4    |\n",
      "----------------------------------------------------------------------\n",
      "   0 |     0.1168    0.000652  -6.842e-06  -2.331e-05       0.262 \n",
      "   1 |   0.000652   1.299e-05  -2.648e-06  -1.027e-05    0.002432 \n",
      "   2 | -6.842e-06  -2.648e-06   7.323e-06  -7.385e-07  -2.706e-05 \n",
      "   3 | -2.331e-05  -1.027e-05  -7.385e-07   2.852e-05   -9.36e-05 \n",
      "   4 |      0.262    0.002432  -2.706e-05   -9.36e-05       2.925 \n",
      "   5 |  2.667e-05   1.089e-05  -3.403e-06  -1.208e-05   0.0001048 \n",
      "   6 |  4.796e-05   1.981e-05  -6.609e-06  -2.526e-05   0.0001936 \n",
      "\n",
      "\n",
      "     |      5    |      6    |\n",
      "----------------------------------------------------------------------\n",
      "   0 |  2.667e-05   4.796e-05 \n",
      "   1 |  1.089e-05   1.981e-05 \n",
      "   2 | -3.403e-06  -6.609e-06 \n",
      "   3 | -1.208e-05  -2.526e-05 \n",
      "   4 |  0.0001048   0.0001936 \n",
      "   5 |  1.696e-05   2.275e-05 \n",
      "   6 |  2.275e-05   5.677e-05 \n",
      "\n"
     ]
    }
   ],
   "source": [
    "cov_mat.Print()"
   ]
  },
  {
   "cell_type": "code",
   "execution_count": 39,
   "metadata": {},
   "outputs": [],
   "source": [
    "a = cov_mat.GetMatrixArray()"
   ]
  },
  {
   "cell_type": "code",
   "execution_count": 55,
   "metadata": {},
   "outputs": [
    {
     "data": {
      "text/plain": [
       "0.000652025765455239"
      ]
     },
     "execution_count": 55,
     "metadata": {},
     "output_type": "execute_result"
    }
   ],
   "source": [
    "a[7]"
   ]
  },
  {
   "cell_type": "code",
   "execution_count": 69,
   "metadata": {},
   "outputs": [
    {
     "data": {
      "text/plain": [
       "1.2988366061597379e-05"
      ]
     },
     "execution_count": 69,
     "metadata": {},
     "output_type": "execute_result"
    }
   ],
   "source": [
    "cov_mat[1][1]"
   ]
  },
  {
   "cell_type": "code",
   "execution_count": null,
   "metadata": {},
   "outputs": [],
   "source": []
  }
 ],
 "metadata": {
  "kernelspec": {
   "display_name": "Python 3",
   "language": "python",
   "name": "python3"
  },
  "language_info": {
   "codemirror_mode": {
    "name": "ipython",
    "version": 3
   },
   "file_extension": ".py",
   "mimetype": "text/x-python",
   "name": "python",
   "nbconvert_exporter": "python",
   "pygments_lexer": "ipython3",
   "version": "3.7.8"
  }
 },
 "nbformat": 4,
 "nbformat_minor": 4
}
