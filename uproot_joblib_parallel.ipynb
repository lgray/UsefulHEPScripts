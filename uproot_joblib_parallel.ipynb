{
 "cells": [
  {
   "cell_type": "code",
   "execution_count": 13,
   "metadata": {},
   "outputs": [],
   "source": [
    "from dask_jobqueue import SLURMCluster\n",
    "from distributed import Client\n",
    "import uproot\n",
    "from joblib import parallel_backend, Parallel, delayed"
   ]
  },
  {
   "cell_type": "code",
   "execution_count": 2,
   "metadata": {},
   "outputs": [],
   "source": [
    "cluster = SLURMCluster(cores=1, memory='1GB')"
   ]
  },
  {
   "cell_type": "code",
   "execution_count": 3,
   "metadata": {},
   "outputs": [],
   "source": [
    "cluster.scale(2)"
   ]
  },
  {
   "cell_type": "code",
   "execution_count": 4,
   "metadata": {},
   "outputs": [],
   "source": [
    "client = Client(cluster)"
   ]
  },
  {
   "cell_type": "code",
   "execution_count": 11,
   "metadata": {},
   "outputs": [
    {
     "data": {
      "text/html": [
       "<table style=\"border: 2px solid white;\">\n",
       "<tr>\n",
       "<td style=\"vertical-align: top; border: 0px solid white\">\n",
       "<h3 style=\"text-align: left;\">Client</h3>\n",
       "<ul style=\"text-align: left; list-style: none; margin: 0; padding: 0;\">\n",
       "  <li><b>Scheduler: </b>tcp://192.33.123.23:41663</li>\n",
       "  <li><b>Dashboard: </b><a href='http://192.33.123.23:8787/status' target='_blank'>http://192.33.123.23:8787/status</a></li>\n",
       "</ul>\n",
       "</td>\n",
       "<td style=\"vertical-align: top; border: 0px solid white\">\n",
       "<h3 style=\"text-align: left;\">Cluster</h3>\n",
       "<ul style=\"text-align: left; list-style:none; margin: 0; padding: 0;\">\n",
       "  <li><b>Workers: </b>2</li>\n",
       "  <li><b>Cores: </b>2</li>\n",
       "  <li><b>Memory: </b>2.00 GB</li>\n",
       "</ul>\n",
       "</td>\n",
       "</tr>\n",
       "</table>"
      ],
      "text/plain": [
       "<Client: 'tcp://192.33.123.23:41663' processes=2 threads=2, memory=2.00 GB>"
      ]
     },
     "execution_count": 11,
     "metadata": {},
     "output_type": "execute_result"
    }
   ],
   "source": [
    "client"
   ]
  },
  {
   "cell_type": "code",
   "execution_count": 14,
   "metadata": {},
   "outputs": [],
   "source": [
    "# Define function which is fed to each joblib/Dask worker\n",
    "\n",
    "def read_branches(file_name, tree_name, branches_query):\n",
    "    # This does NOT read the branches (yet)\n",
    "    file = uproot.open(file_name)\n",
    "    tree = file[tree_name]\n",
    "    # This reads the branches\n",
    "    return tree.arrays(filter_name=branches_query)"
   ]
  },
  {
   "cell_type": "code",
   "execution_count": 17,
   "metadata": {},
   "outputs": [
    {
     "name": "stdout",
     "output_type": "stream",
     "text": [
      "CPU times: user 183 ms, sys: 20.9 ms, total: 204 ms\n",
      "Wall time: 6.91 s\n"
     ]
    }
   ],
   "source": [
    "%%time\n",
    "# Code incapsulated in parallel_backend is scheduled and waited for\n",
    "# As can be seen in the dashboard, this is correctly spread over the cluster\n",
    "\n",
    "file_name = 'flashgg_investigate/test_nanoaod_99_Skim.root'\n",
    "tree_name = 'Events'\n",
    "queries = ['Electron*', 'Photon*']\n",
    "    \n",
    "with parallel_backend('dask', scheduler_host=cluster):\n",
    "    electrons, photons = Parallel()(delayed(read_branches)(file_name, tree_name, q) for q in queries)"
   ]
  },
  {
   "cell_type": "code",
   "execution_count": 19,
   "metadata": {},
   "outputs": [
    {
     "data": {
      "text/plain": [
       "1664 * {\"Electron_charge\": var * int32, \"Electron_cleanmask\": var * uint8, \"Electron_convVeto\": var * bool, \"Electron_cutBased\": var * int32, \"Electron_cutBased_Fall17_V1\": var * int32, \"Electron_cutBased_HEEP\": var * bool, \"Electron_deltaEtaSC\": var * float32, \"Electron_dr03EcalRecHitSumEt\": var * float32, \"Electron_dr03HcalDepth1TowerSumEt\": var * float32, \"Electron_dr03TkSumPt\": var * float32, \"Electron_dr03TkSumPtHEEP\": var * float32, \"Electron_dxy\": var * float32, \"Electron_dxyErr\": var * float32, \"Electron_dz\": var * float32, \"Electron_dzErr\": var * float32, \"Electron_eCorr\": var * float32, \"Electron_eInvMinusPInv\": var * float32, \"Electron_energyErr\": var * float32, \"Electron_eta\": var * float32, \"Electron_genPartFlav\": var * uint8, \"Electron_genPartIdx\": var * int32, \"Electron_hoe\": var * float32, \"Electron_ip3d\": var * float32, \"Electron_isPFcand\": var * bool, \"Electron_jetIdx\": var * int32, \"Electron_jetPtRelv2\": var * float32, \"Electron_jetRelIso\": var * float32, \"Electron_lostHits\": var * uint8, \"Electron_mass\": var * float32, \"Electron_miniPFRelIso_all\": var * float32, \"Electron_miniPFRelIso_chg\": var * float32, \"Electron_mvaFall17V1Iso\": var * float32, \"Electron_mvaFall17V1Iso_WP80\": var * bool, \"Electron_mvaFall17V1Iso_WP90\": var * bool, \"Electron_mvaFall17V1Iso_WPL\": var * bool, \"Electron_mvaFall17V1noIso\": var * float32, \"Electron_mvaFall17V1noIso_WP80\": var * bool, \"Electron_mvaFall17V1noIso_WP90\": var * bool, \"Electron_mvaFall17V1noIso_WPL\": var * bool, \"Electron_mvaFall17V2Iso\": var * float32, \"Electron_mvaFall17V2Iso_WP80\": var * bool, \"Electron_mvaFall17V2Iso_WP90\": var * bool, \"Electron_mvaFall17V2Iso_WPL\": var * bool, \"Electron_mvaFall17V2noIso\": var * float32, \"Electron_mvaFall17V2noIso_WP80\": var * bool, \"Electron_mvaFall17V2noIso_WP90\": var * bool, \"Electron_mvaFall17V2noIso_WPL\": var * bool, \"Electron_mvaTTH\": var * float32, \"Electron_pdgId\": var * int32, \"Electron_pfRelIso03_all\": var * float32, \"Electron_pfRelIso03_chg\": var * float32, \"Electron_phi\": var * float32, \"Electron_photonIdx\": var * int32, \"Electron_pt\": var * float32, \"Electron_r9\": var * float32, \"Electron_scEtOverPt\": var * float32, \"Electron_seedGain\": var * uint8, \"Electron_sieie\": var * float32, \"Electron_sip3d\": var * float32, \"Electron_tightCharge\": var * int32, \"Electron_vidNestedWPBitmap\": var * int32, \"Electron_vidNestedWPBitmapHEEP\": var * int32}"
      ]
     },
     "execution_count": 19,
     "metadata": {},
     "output_type": "execute_result"
    }
   ],
   "source": [
    "electrons.type"
   ]
  },
  {
   "cell_type": "code",
   "execution_count": 20,
   "metadata": {},
   "outputs": [
    {
     "data": {
      "text/plain": [
       "1664 * {\"Photon_charge\": var * int32, \"Photon_chargedHadronIso\": var * float32, \"Photon_cleanmask\": var * uint8, \"Photon_cutBased\": var * int32, \"Photon_cutBased_Fall17V1Bitmap\": var * int32, \"Photon_eCorr\": var * float32, \"Photon_electronIdx\": var * int32, \"Photon_electronVeto\": var * bool, \"Photon_energyErr\": var * float32, \"Photon_eta\": var * float32, \"Photon_genPartFlav\": var * uint8, \"Photon_genPartIdx\": var * int32, \"Photon_hoe\": var * float32, \"Photon_isScEtaEB\": var * bool, \"Photon_isScEtaEE\": var * bool, \"Photon_jetIdx\": var * int32, \"Photon_mass\": var * float32, \"Photon_mvaID\": var * float32, \"Photon_mvaID_Fall17V1p1\": var * float32, \"Photon_mvaID_WP80\": var * bool, \"Photon_mvaID_WP90\": var * bool, \"Photon_pdgId\": var * int32, \"Photon_pfRelIso03_all\": var * float32, \"Photon_pfRelIso03_chg\": var * float32, \"Photon_phi\": var * float32, \"Photon_photonIso\": var * float32, \"Photon_pixelSeed\": var * bool, \"Photon_pt\": var * float32, \"Photon_pt_FNUDown\": var * float32, \"Photon_pt_FNUUp\": var * float32, \"Photon_pt_MCScaleDown\": var * float32, \"Photon_pt_MCScaleGainDown\": var * float32, \"Photon_pt_MCScaleGainUp\": var * float32, \"Photon_pt_MCScaleUp\": var * float32, \"Photon_pt_MCSmearDown\": var * float32, \"Photon_pt_MCSmearUp\": var * float32, \"Photon_pt_MaterialDown\": var * float32, \"Photon_pt_MaterialUp\": var * float32, \"Photon_pt_ShowerShapeDown\": var * float32, \"Photon_pt_ShowerShapeUp\": var * float32, \"Photon_r9\": var * float32, \"Photon_seedGain\": var * uint8, \"Photon_sieie\": var * float32, \"Photon_trkSumPtHollowConeDR03\": var * float32, \"Photon_vidNestedWPBitmap\": var * int32}"
      ]
     },
     "execution_count": 20,
     "metadata": {},
     "output_type": "execute_result"
    }
   ],
   "source": [
    "photons.type"
   ]
  }
 ],
 "metadata": {
  "kernelspec": {
   "display_name": "Python 3",
   "language": "python",
   "name": "python3"
  },
  "language_info": {
   "codemirror_mode": {
    "name": "ipython",
    "version": 3
   },
   "file_extension": ".py",
   "mimetype": "text/x-python",
   "name": "python",
   "nbconvert_exporter": "python",
   "pygments_lexer": "ipython3",
   "version": "3.7.8"
  }
 },
 "nbformat": 4,
 "nbformat_minor": 4
}
